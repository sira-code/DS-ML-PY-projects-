{
  "nbformat": 4,
  "nbformat_minor": 0,
  "metadata": {
    "colab": {
      "name": "INTERNSHALA INTERNSHIP TASK 1 SP ",
      "provenance": [],
      "collapsed_sections": [],
      "authorship_tag": "ABX9TyNNsxxgMMzjqJDyJqRM0vXG",
      "include_colab_link": true
    },
    "kernelspec": {
      "name": "python3",
      "display_name": "Python 3"
    }
  },
  "cells": [
    {
      "cell_type": "markdown",
      "metadata": {
        "id": "view-in-github",
        "colab_type": "text"
      },
      "source": [
        "<a href=\"https://colab.research.google.com/github/sira-code/DS-ML-PY-projects-/blob/master/INTERNSHALA_INTERNSHIP_TASK_1_SP.ipynb\" target=\"_parent\"><img src=\"https://colab.research.google.com/assets/colab-badge.svg\" alt=\"Open In Colab\"/></a>"
      ]
    },
    {
      "cell_type": "code",
      "metadata": {
        "id": "4m6DTGghQFjk",
        "colab_type": "code",
        "colab": {}
      },
      "source": [
        "import numpy as np \n",
        "import pandas as pd \n",
        "import matplotlib.pyplot as plt\n",
        "import seaborn as sns"
      ],
      "execution_count": 23,
      "outputs": []
    },
    {
      "cell_type": "code",
      "metadata": {
        "id": "eddk2Tt4MZPP",
        "colab_type": "code",
        "colab": {}
      },
      "source": [
        "#1.WRITE A FUNCTION THAT INPUTS A DATAFRAME AND INDENTIFY WHICH COLUMNS HAVE DATE IN THEM"
      ],
      "execution_count": 24,
      "outputs": []
    },
    {
      "cell_type": "code",
      "metadata": {
        "id": "yE-Rul1k1wu6",
        "colab_type": "code",
        "colab": {}
      },
      "source": [
        "data = {'Name': ['Shiv','Daisy','Juhi','Saumya'],\n",
        "'age': [20, 19, 22, 21],\n",
        "'grade': [88, 92, 95, 70],\n",
        "'Date_Of_start_Session': ['08-25-2016','08-29-2014','08-25-2012','08-16-2013'],\n",
        "'Date_Of_End_Session': ['10-20-2020','10-27-2018','10-22-2016','10-16-2016']}"
      ],
      "execution_count": 27,
      "outputs": []
    },
    {
      "cell_type": "code",
      "metadata": {
        "id": "wg9ezk-E1xCD",
        "colab_type": "code",
        "colab": {
          "base_uri": "https://localhost:8080/",
          "height": 175
        },
        "outputId": "78c3ae72-c35a-43c0-b5be-133a4e53e18a"
      },
      "source": [
        "df = pd.DataFrame(data, index = ['Shiv','Daisy','Juhi','Saumya'])\n",
        "df"
      ],
      "execution_count": 28,
      "outputs": [
        {
          "output_type": "execute_result",
          "data": {
            "text/html": [
              "<div>\n",
              "<style scoped>\n",
              "    .dataframe tbody tr th:only-of-type {\n",
              "        vertical-align: middle;\n",
              "    }\n",
              "\n",
              "    .dataframe tbody tr th {\n",
              "        vertical-align: top;\n",
              "    }\n",
              "\n",
              "    .dataframe thead th {\n",
              "        text-align: right;\n",
              "    }\n",
              "</style>\n",
              "<table border=\"1\" class=\"dataframe\">\n",
              "  <thead>\n",
              "    <tr style=\"text-align: right;\">\n",
              "      <th></th>\n",
              "      <th>Name</th>\n",
              "      <th>age</th>\n",
              "      <th>grade</th>\n",
              "      <th>Date_Of_start_Session</th>\n",
              "      <th>Date_Of_End_Session</th>\n",
              "    </tr>\n",
              "  </thead>\n",
              "  <tbody>\n",
              "    <tr>\n",
              "      <th>Shiv</th>\n",
              "      <td>Shiv</td>\n",
              "      <td>20</td>\n",
              "      <td>88</td>\n",
              "      <td>08-25-2016</td>\n",
              "      <td>10-20-2020</td>\n",
              "    </tr>\n",
              "    <tr>\n",
              "      <th>Daisy</th>\n",
              "      <td>Daisy</td>\n",
              "      <td>19</td>\n",
              "      <td>92</td>\n",
              "      <td>08-29-2014</td>\n",
              "      <td>10-27-2018</td>\n",
              "    </tr>\n",
              "    <tr>\n",
              "      <th>Juhi</th>\n",
              "      <td>Juhi</td>\n",
              "      <td>22</td>\n",
              "      <td>95</td>\n",
              "      <td>08-25-2012</td>\n",
              "      <td>10-22-2016</td>\n",
              "    </tr>\n",
              "    <tr>\n",
              "      <th>Saumya</th>\n",
              "      <td>Saumya</td>\n",
              "      <td>21</td>\n",
              "      <td>70</td>\n",
              "      <td>08-16-2013</td>\n",
              "      <td>10-16-2016</td>\n",
              "    </tr>\n",
              "  </tbody>\n",
              "</table>\n",
              "</div>"
            ],
            "text/plain": [
              "          Name  age  grade Date_Of_start_Session Date_Of_End_Session\n",
              "Shiv      Shiv   20     88            08-25-2016          10-20-2020\n",
              "Daisy    Daisy   19     92            08-29-2014          10-27-2018\n",
              "Juhi      Juhi   22     95            08-25-2012          10-22-2016\n",
              "Saumya  Saumya   21     70            08-16-2013          10-16-2016"
            ]
          },
          "metadata": {
            "tags": []
          },
          "execution_count": 28
        }
      ]
    },
    {
      "cell_type": "code",
      "metadata": {
        "id": "ckznUE1U0wJM",
        "colab_type": "code",
        "colab": {}
      },
      "source": [
        "import datetime\n",
        "df['year'] = pd.DatetimeIndex(df['Date_Of_start_Session']).year"
      ],
      "execution_count": 29,
      "outputs": []
    },
    {
      "cell_type": "code",
      "metadata": {
        "id": "A73jKKFH0wRp",
        "colab_type": "code",
        "colab": {
          "base_uri": "https://localhost:8080/",
          "height": 175
        },
        "outputId": "9a469a3e-2e34-418d-be42-75628bef04a4"
      },
      "source": [
        "df.head()"
      ],
      "execution_count": 30,
      "outputs": [
        {
          "output_type": "execute_result",
          "data": {
            "text/html": [
              "<div>\n",
              "<style scoped>\n",
              "    .dataframe tbody tr th:only-of-type {\n",
              "        vertical-align: middle;\n",
              "    }\n",
              "\n",
              "    .dataframe tbody tr th {\n",
              "        vertical-align: top;\n",
              "    }\n",
              "\n",
              "    .dataframe thead th {\n",
              "        text-align: right;\n",
              "    }\n",
              "</style>\n",
              "<table border=\"1\" class=\"dataframe\">\n",
              "  <thead>\n",
              "    <tr style=\"text-align: right;\">\n",
              "      <th></th>\n",
              "      <th>Name</th>\n",
              "      <th>age</th>\n",
              "      <th>grade</th>\n",
              "      <th>Date_Of_start_Session</th>\n",
              "      <th>Date_Of_End_Session</th>\n",
              "      <th>year</th>\n",
              "    </tr>\n",
              "  </thead>\n",
              "  <tbody>\n",
              "    <tr>\n",
              "      <th>Shiv</th>\n",
              "      <td>Shiv</td>\n",
              "      <td>20</td>\n",
              "      <td>88</td>\n",
              "      <td>08-25-2016</td>\n",
              "      <td>10-20-2020</td>\n",
              "      <td>2016</td>\n",
              "    </tr>\n",
              "    <tr>\n",
              "      <th>Daisy</th>\n",
              "      <td>Daisy</td>\n",
              "      <td>19</td>\n",
              "      <td>92</td>\n",
              "      <td>08-29-2014</td>\n",
              "      <td>10-27-2018</td>\n",
              "      <td>2014</td>\n",
              "    </tr>\n",
              "    <tr>\n",
              "      <th>Juhi</th>\n",
              "      <td>Juhi</td>\n",
              "      <td>22</td>\n",
              "      <td>95</td>\n",
              "      <td>08-25-2012</td>\n",
              "      <td>10-22-2016</td>\n",
              "      <td>2012</td>\n",
              "    </tr>\n",
              "    <tr>\n",
              "      <th>Saumya</th>\n",
              "      <td>Saumya</td>\n",
              "      <td>21</td>\n",
              "      <td>70</td>\n",
              "      <td>08-16-2013</td>\n",
              "      <td>10-16-2016</td>\n",
              "      <td>2013</td>\n",
              "    </tr>\n",
              "  </tbody>\n",
              "</table>\n",
              "</div>"
            ],
            "text/plain": [
              "          Name  age  grade Date_Of_start_Session Date_Of_End_Session  year\n",
              "Shiv      Shiv   20     88            08-25-2016          10-20-2020  2016\n",
              "Daisy    Daisy   19     92            08-29-2014          10-27-2018  2014\n",
              "Juhi      Juhi   22     95            08-25-2012          10-22-2016  2012\n",
              "Saumya  Saumya   21     70            08-16-2013          10-16-2016  2013"
            ]
          },
          "metadata": {
            "tags": []
          },
          "execution_count": 30
        }
      ]
    },
    {
      "cell_type": "code",
      "metadata": {
        "id": "2PqVQRfX0wWX",
        "colab_type": "code",
        "colab": {
          "base_uri": "https://localhost:8080/",
          "height": 175
        },
        "outputId": "b384de67-7816-474f-d0f0-2992ef8140aa"
      },
      "source": [
        "df['month'] = pd.DatetimeIndex(df['Date_Of_start_Session']).month\n",
        "df.head()"
      ],
      "execution_count": 31,
      "outputs": [
        {
          "output_type": "execute_result",
          "data": {
            "text/html": [
              "<div>\n",
              "<style scoped>\n",
              "    .dataframe tbody tr th:only-of-type {\n",
              "        vertical-align: middle;\n",
              "    }\n",
              "\n",
              "    .dataframe tbody tr th {\n",
              "        vertical-align: top;\n",
              "    }\n",
              "\n",
              "    .dataframe thead th {\n",
              "        text-align: right;\n",
              "    }\n",
              "</style>\n",
              "<table border=\"1\" class=\"dataframe\">\n",
              "  <thead>\n",
              "    <tr style=\"text-align: right;\">\n",
              "      <th></th>\n",
              "      <th>Name</th>\n",
              "      <th>age</th>\n",
              "      <th>grade</th>\n",
              "      <th>Date_Of_start_Session</th>\n",
              "      <th>Date_Of_End_Session</th>\n",
              "      <th>year</th>\n",
              "      <th>month</th>\n",
              "    </tr>\n",
              "  </thead>\n",
              "  <tbody>\n",
              "    <tr>\n",
              "      <th>Shiv</th>\n",
              "      <td>Shiv</td>\n",
              "      <td>20</td>\n",
              "      <td>88</td>\n",
              "      <td>08-25-2016</td>\n",
              "      <td>10-20-2020</td>\n",
              "      <td>2016</td>\n",
              "      <td>8</td>\n",
              "    </tr>\n",
              "    <tr>\n",
              "      <th>Daisy</th>\n",
              "      <td>Daisy</td>\n",
              "      <td>19</td>\n",
              "      <td>92</td>\n",
              "      <td>08-29-2014</td>\n",
              "      <td>10-27-2018</td>\n",
              "      <td>2014</td>\n",
              "      <td>8</td>\n",
              "    </tr>\n",
              "    <tr>\n",
              "      <th>Juhi</th>\n",
              "      <td>Juhi</td>\n",
              "      <td>22</td>\n",
              "      <td>95</td>\n",
              "      <td>08-25-2012</td>\n",
              "      <td>10-22-2016</td>\n",
              "      <td>2012</td>\n",
              "      <td>8</td>\n",
              "    </tr>\n",
              "    <tr>\n",
              "      <th>Saumya</th>\n",
              "      <td>Saumya</td>\n",
              "      <td>21</td>\n",
              "      <td>70</td>\n",
              "      <td>08-16-2013</td>\n",
              "      <td>10-16-2016</td>\n",
              "      <td>2013</td>\n",
              "      <td>8</td>\n",
              "    </tr>\n",
              "  </tbody>\n",
              "</table>\n",
              "</div>"
            ],
            "text/plain": [
              "          Name  age  grade  ... Date_Of_End_Session  year  month\n",
              "Shiv      Shiv   20     88  ...          10-20-2020  2016      8\n",
              "Daisy    Daisy   19     92  ...          10-27-2018  2014      8\n",
              "Juhi      Juhi   22     95  ...          10-22-2016  2012      8\n",
              "Saumya  Saumya   21     70  ...          10-16-2016  2013      8\n",
              "\n",
              "[4 rows x 7 columns]"
            ]
          },
          "metadata": {
            "tags": []
          },
          "execution_count": 31
        }
      ]
    },
    {
      "cell_type": "code",
      "metadata": {
        "id": "JpHuLi9i4Tqu",
        "colab_type": "code",
        "colab": {
          "base_uri": "https://localhost:8080/",
          "height": 175
        },
        "outputId": "2ba0c8f7-4fb5-4376-e616-4da6e5ef5f28"
      },
      "source": [
        "df['day'] = pd.DatetimeIndex(df['Date_Of_start_Session']).day\n",
        "df.head()"
      ],
      "execution_count": 32,
      "outputs": [
        {
          "output_type": "execute_result",
          "data": {
            "text/html": [
              "<div>\n",
              "<style scoped>\n",
              "    .dataframe tbody tr th:only-of-type {\n",
              "        vertical-align: middle;\n",
              "    }\n",
              "\n",
              "    .dataframe tbody tr th {\n",
              "        vertical-align: top;\n",
              "    }\n",
              "\n",
              "    .dataframe thead th {\n",
              "        text-align: right;\n",
              "    }\n",
              "</style>\n",
              "<table border=\"1\" class=\"dataframe\">\n",
              "  <thead>\n",
              "    <tr style=\"text-align: right;\">\n",
              "      <th></th>\n",
              "      <th>Name</th>\n",
              "      <th>age</th>\n",
              "      <th>grade</th>\n",
              "      <th>Date_Of_start_Session</th>\n",
              "      <th>Date_Of_End_Session</th>\n",
              "      <th>year</th>\n",
              "      <th>month</th>\n",
              "      <th>day</th>\n",
              "    </tr>\n",
              "  </thead>\n",
              "  <tbody>\n",
              "    <tr>\n",
              "      <th>Shiv</th>\n",
              "      <td>Shiv</td>\n",
              "      <td>20</td>\n",
              "      <td>88</td>\n",
              "      <td>08-25-2016</td>\n",
              "      <td>10-20-2020</td>\n",
              "      <td>2016</td>\n",
              "      <td>8</td>\n",
              "      <td>25</td>\n",
              "    </tr>\n",
              "    <tr>\n",
              "      <th>Daisy</th>\n",
              "      <td>Daisy</td>\n",
              "      <td>19</td>\n",
              "      <td>92</td>\n",
              "      <td>08-29-2014</td>\n",
              "      <td>10-27-2018</td>\n",
              "      <td>2014</td>\n",
              "      <td>8</td>\n",
              "      <td>29</td>\n",
              "    </tr>\n",
              "    <tr>\n",
              "      <th>Juhi</th>\n",
              "      <td>Juhi</td>\n",
              "      <td>22</td>\n",
              "      <td>95</td>\n",
              "      <td>08-25-2012</td>\n",
              "      <td>10-22-2016</td>\n",
              "      <td>2012</td>\n",
              "      <td>8</td>\n",
              "      <td>25</td>\n",
              "    </tr>\n",
              "    <tr>\n",
              "      <th>Saumya</th>\n",
              "      <td>Saumya</td>\n",
              "      <td>21</td>\n",
              "      <td>70</td>\n",
              "      <td>08-16-2013</td>\n",
              "      <td>10-16-2016</td>\n",
              "      <td>2013</td>\n",
              "      <td>8</td>\n",
              "      <td>16</td>\n",
              "    </tr>\n",
              "  </tbody>\n",
              "</table>\n",
              "</div>"
            ],
            "text/plain": [
              "          Name  age  grade  ...  year month  day\n",
              "Shiv      Shiv   20     88  ...  2016     8   25\n",
              "Daisy    Daisy   19     92  ...  2014     8   29\n",
              "Juhi      Juhi   22     95  ...  2012     8   25\n",
              "Saumya  Saumya   21     70  ...  2013     8   16\n",
              "\n",
              "[4 rows x 8 columns]"
            ]
          },
          "metadata": {
            "tags": []
          },
          "execution_count": 32
        }
      ]
    },
    {
      "cell_type": "code",
      "metadata": {
        "id": "pLrsc4z-0wak",
        "colab_type": "code",
        "colab": {
          "base_uri": "https://localhost:8080/",
          "height": 175
        },
        "outputId": "2a451d73-df21-4383-d019-d21437290ab7"
      },
      "source": [
        "df['month_day_year'] = pd.to_datetime(df['Date_Of_start_Session']).dt.to_period('D')\n",
        "df.head()"
      ],
      "execution_count": 33,
      "outputs": [
        {
          "output_type": "execute_result",
          "data": {
            "text/html": [
              "<div>\n",
              "<style scoped>\n",
              "    .dataframe tbody tr th:only-of-type {\n",
              "        vertical-align: middle;\n",
              "    }\n",
              "\n",
              "    .dataframe tbody tr th {\n",
              "        vertical-align: top;\n",
              "    }\n",
              "\n",
              "    .dataframe thead th {\n",
              "        text-align: right;\n",
              "    }\n",
              "</style>\n",
              "<table border=\"1\" class=\"dataframe\">\n",
              "  <thead>\n",
              "    <tr style=\"text-align: right;\">\n",
              "      <th></th>\n",
              "      <th>Name</th>\n",
              "      <th>age</th>\n",
              "      <th>grade</th>\n",
              "      <th>Date_Of_start_Session</th>\n",
              "      <th>Date_Of_End_Session</th>\n",
              "      <th>year</th>\n",
              "      <th>month</th>\n",
              "      <th>day</th>\n",
              "      <th>month_day_year</th>\n",
              "    </tr>\n",
              "  </thead>\n",
              "  <tbody>\n",
              "    <tr>\n",
              "      <th>Shiv</th>\n",
              "      <td>Shiv</td>\n",
              "      <td>20</td>\n",
              "      <td>88</td>\n",
              "      <td>08-25-2016</td>\n",
              "      <td>10-20-2020</td>\n",
              "      <td>2016</td>\n",
              "      <td>8</td>\n",
              "      <td>25</td>\n",
              "      <td>2016-08-25</td>\n",
              "    </tr>\n",
              "    <tr>\n",
              "      <th>Daisy</th>\n",
              "      <td>Daisy</td>\n",
              "      <td>19</td>\n",
              "      <td>92</td>\n",
              "      <td>08-29-2014</td>\n",
              "      <td>10-27-2018</td>\n",
              "      <td>2014</td>\n",
              "      <td>8</td>\n",
              "      <td>29</td>\n",
              "      <td>2014-08-29</td>\n",
              "    </tr>\n",
              "    <tr>\n",
              "      <th>Juhi</th>\n",
              "      <td>Juhi</td>\n",
              "      <td>22</td>\n",
              "      <td>95</td>\n",
              "      <td>08-25-2012</td>\n",
              "      <td>10-22-2016</td>\n",
              "      <td>2012</td>\n",
              "      <td>8</td>\n",
              "      <td>25</td>\n",
              "      <td>2012-08-25</td>\n",
              "    </tr>\n",
              "    <tr>\n",
              "      <th>Saumya</th>\n",
              "      <td>Saumya</td>\n",
              "      <td>21</td>\n",
              "      <td>70</td>\n",
              "      <td>08-16-2013</td>\n",
              "      <td>10-16-2016</td>\n",
              "      <td>2013</td>\n",
              "      <td>8</td>\n",
              "      <td>16</td>\n",
              "      <td>2013-08-16</td>\n",
              "    </tr>\n",
              "  </tbody>\n",
              "</table>\n",
              "</div>"
            ],
            "text/plain": [
              "          Name  age  grade  ... month day  month_day_year\n",
              "Shiv      Shiv   20     88  ...     8  25      2016-08-25\n",
              "Daisy    Daisy   19     92  ...     8  29      2014-08-29\n",
              "Juhi      Juhi   22     95  ...     8  25      2012-08-25\n",
              "Saumya  Saumya   21     70  ...     8  16      2013-08-16\n",
              "\n",
              "[4 rows x 9 columns]"
            ]
          },
          "metadata": {
            "tags": []
          },
          "execution_count": 33
        }
      ]
    },
    {
      "cell_type": "code",
      "metadata": {
        "id": "iNPRUgxxM9N0",
        "colab_type": "code",
        "colab": {}
      },
      "source": [
        "# USING THESE DATE COLUMNS MAKE NEW COLUMNS WHICH ARE THE THE DIFFERENCE BETWEEN THESE COLUMNS TAKING 2 AT A TIME "
      ],
      "execution_count": 34,
      "outputs": []
    },
    {
      "cell_type": "code",
      "metadata": {
        "id": "zFn6diMc0wPt",
        "colab_type": "code",
        "colab": {}
      },
      "source": [
        "from datetime import datetime\n",
        "df[['Date_Of_start_Session','Date_Of_End_Session']]=df[['Date_Of_start_Session','Date_Of_End_Session']].apply(pd.to_datetime)"
      ],
      "execution_count": 36,
      "outputs": []
    },
    {
      "cell_type": "code",
      "metadata": {
        "id": "e5oLkO0XS--h",
        "colab_type": "code",
        "colab": {
          "base_uri": "https://localhost:8080/",
          "height": 192
        },
        "outputId": "6fffed79-85c2-4a8c-e5f5-ca75f77c86ac"
      },
      "source": [
        "#date1= Date_Of_start_Session\n",
        "#date2= Date_Of_End_Session\n",
        "df['DIFFERENCE(date1-date2)']=(df['Date_Of_End_Session']-df['Date_Of_start_Session']).dt.days\n",
        "df.head()"
      ],
      "execution_count": 41,
      "outputs": [
        {
          "output_type": "execute_result",
          "data": {
            "text/html": [
              "<div>\n",
              "<style scoped>\n",
              "    .dataframe tbody tr th:only-of-type {\n",
              "        vertical-align: middle;\n",
              "    }\n",
              "\n",
              "    .dataframe tbody tr th {\n",
              "        vertical-align: top;\n",
              "    }\n",
              "\n",
              "    .dataframe thead th {\n",
              "        text-align: right;\n",
              "    }\n",
              "</style>\n",
              "<table border=\"1\" class=\"dataframe\">\n",
              "  <thead>\n",
              "    <tr style=\"text-align: right;\">\n",
              "      <th></th>\n",
              "      <th>Name</th>\n",
              "      <th>age</th>\n",
              "      <th>grade</th>\n",
              "      <th>Date_Of_start_Session</th>\n",
              "      <th>Date_Of_End_Session</th>\n",
              "      <th>year</th>\n",
              "      <th>month</th>\n",
              "      <th>day</th>\n",
              "      <th>month_day_year</th>\n",
              "      <th>DIFFERENCE</th>\n",
              "      <th>DIFFERENCE(date1-date2)</th>\n",
              "    </tr>\n",
              "  </thead>\n",
              "  <tbody>\n",
              "    <tr>\n",
              "      <th>Shiv</th>\n",
              "      <td>Shiv</td>\n",
              "      <td>20</td>\n",
              "      <td>88</td>\n",
              "      <td>2016-08-25</td>\n",
              "      <td>2020-10-20</td>\n",
              "      <td>2016</td>\n",
              "      <td>8</td>\n",
              "      <td>25</td>\n",
              "      <td>2016-08-25</td>\n",
              "      <td>1517</td>\n",
              "      <td>1517</td>\n",
              "    </tr>\n",
              "    <tr>\n",
              "      <th>Daisy</th>\n",
              "      <td>Daisy</td>\n",
              "      <td>19</td>\n",
              "      <td>92</td>\n",
              "      <td>2014-08-29</td>\n",
              "      <td>2018-10-27</td>\n",
              "      <td>2014</td>\n",
              "      <td>8</td>\n",
              "      <td>29</td>\n",
              "      <td>2014-08-29</td>\n",
              "      <td>1520</td>\n",
              "      <td>1520</td>\n",
              "    </tr>\n",
              "    <tr>\n",
              "      <th>Juhi</th>\n",
              "      <td>Juhi</td>\n",
              "      <td>22</td>\n",
              "      <td>95</td>\n",
              "      <td>2012-08-25</td>\n",
              "      <td>2016-10-22</td>\n",
              "      <td>2012</td>\n",
              "      <td>8</td>\n",
              "      <td>25</td>\n",
              "      <td>2012-08-25</td>\n",
              "      <td>1519</td>\n",
              "      <td>1519</td>\n",
              "    </tr>\n",
              "    <tr>\n",
              "      <th>Saumya</th>\n",
              "      <td>Saumya</td>\n",
              "      <td>21</td>\n",
              "      <td>70</td>\n",
              "      <td>2013-08-16</td>\n",
              "      <td>2016-10-16</td>\n",
              "      <td>2013</td>\n",
              "      <td>8</td>\n",
              "      <td>16</td>\n",
              "      <td>2013-08-16</td>\n",
              "      <td>1157</td>\n",
              "      <td>1157</td>\n",
              "    </tr>\n",
              "  </tbody>\n",
              "</table>\n",
              "</div>"
            ],
            "text/plain": [
              "          Name  age  grade  ... month_day_year DIFFERENCE  DIFFERENCE(date1-date2)\n",
              "Shiv      Shiv   20     88  ...     2016-08-25       1517                     1517\n",
              "Daisy    Daisy   19     92  ...     2014-08-29       1520                     1520\n",
              "Juhi      Juhi   22     95  ...     2012-08-25       1519                     1519\n",
              "Saumya  Saumya   21     70  ...     2013-08-16       1157                     1157\n",
              "\n",
              "[4 rows x 11 columns]"
            ]
          },
          "metadata": {
            "tags": []
          },
          "execution_count": 41
        }
      ]
    }
  ]
}