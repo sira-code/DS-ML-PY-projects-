{
  "nbformat": 4,
  "nbformat_minor": 0,
  "metadata": {
    "colab": {
      "name": "INSTAGRAM PROFILE PIC DOWNLOAD",
      "provenance": [],
      "collapsed_sections": [],
      "authorship_tag": "ABX9TyOmpy8hAq85gOseRxmtfCh/",
      "include_colab_link": true
    },
    "kernelspec": {
      "name": "python3",
      "display_name": "Python 3"
    }
  },
  "cells": [
    {
      "cell_type": "markdown",
      "metadata": {
        "id": "view-in-github",
        "colab_type": "text"
      },
      "source": [
        "<a href=\"https://colab.research.google.com/github/sira-code/DS-ML-PY-projects-/blob/master/INSTAGRAM_PROFILE_PIC_DOWNLOAD.ipynb\" target=\"_parent\"><img src=\"https://colab.research.google.com/assets/colab-badge.svg\" alt=\"Open In Colab\"/></a>"
      ]
    },
    {
      "cell_type": "code",
      "metadata": {
        "id": "RzpvB459R2x8",
        "colab_type": "code",
        "colab": {
          "base_uri": "https://localhost:8080/",
          "height": 318
        },
        "outputId": "3c8cbd23-3627-4d17-a508-0e9328168611"
      },
      "source": [
        "pip install instaloader"
      ],
      "execution_count": 1,
      "outputs": [
        {
          "output_type": "stream",
          "text": [
            "Collecting instaloader\n",
            "\u001b[?25l  Downloading https://files.pythonhosted.org/packages/98/6e/4b3c1c108faa01f92632793fe6c1e5d699e08a2c147a4c8568abb7034e62/instaloader-4.4.5.tar.gz (42kB)\n",
            "\r\u001b[K     |███████▋                        | 10kB 17.2MB/s eta 0:00:01\r\u001b[K     |███████████████▎                | 20kB 7.2MB/s eta 0:00:01\r\u001b[K     |███████████████████████         | 30kB 8.2MB/s eta 0:00:01\r\u001b[K     |██████████████████████████████▋ | 40kB 8.5MB/s eta 0:00:01\r\u001b[K     |████████████████████████████████| 51kB 3.3MB/s \n",
            "\u001b[?25hRequirement already satisfied: requests>=2.4 in /usr/local/lib/python3.6/dist-packages (from instaloader) (2.23.0)\n",
            "Requirement already satisfied: certifi>=2017.4.17 in /usr/local/lib/python3.6/dist-packages (from requests>=2.4->instaloader) (2020.6.20)\n",
            "Requirement already satisfied: idna<3,>=2.5 in /usr/local/lib/python3.6/dist-packages (from requests>=2.4->instaloader) (2.10)\n",
            "Requirement already satisfied: urllib3!=1.25.0,!=1.25.1,<1.26,>=1.21.1 in /usr/local/lib/python3.6/dist-packages (from requests>=2.4->instaloader) (1.24.3)\n",
            "Requirement already satisfied: chardet<4,>=3.0.2 in /usr/local/lib/python3.6/dist-packages (from requests>=2.4->instaloader) (3.0.4)\n",
            "Building wheels for collected packages: instaloader\n",
            "  Building wheel for instaloader (setup.py) ... \u001b[?25l\u001b[?25hdone\n",
            "  Created wheel for instaloader: filename=instaloader-4.4.5-cp36-none-any.whl size=45662 sha256=06c0011439e7e15ef91f8ab0aa89db1a81436ab48ef3385b7717d3017b4840a1\n",
            "  Stored in directory: /root/.cache/pip/wheels/a9/da/a9/ad64e3e630496ce3c372d973481e66c86a18dae2a696063424\n",
            "Successfully built instaloader\n",
            "Installing collected packages: instaloader\n",
            "Successfully installed instaloader-4.4.5\n"
          ],
          "name": "stdout"
        }
      ]
    },
    {
      "cell_type": "code",
      "metadata": {
        "id": "7zxHubr8SHTb",
        "colab_type": "code",
        "colab": {}
      },
      "source": [
        "import instaloader"
      ],
      "execution_count": 2,
      "outputs": []
    },
    {
      "cell_type": "code",
      "metadata": {
        "id": "jnDxBmPNSHj_",
        "colab_type": "code",
        "colab": {}
      },
      "source": [
        "mod = instaloader.Instaloader()"
      ],
      "execution_count": 3,
      "outputs": []
    },
    {
      "cell_type": "code",
      "metadata": {
        "id": "fZRQmDljSHx5",
        "colab_type": "code",
        "colab": {
          "base_uri": "https://localhost:8080/",
          "height": 36
        },
        "outputId": "fb644dbc-2f30-43bd-a4db-26520d398e3f"
      },
      "source": [
        "ap = input(\"ENTER THE USER NAME ----->\")"
      ],
      "execution_count": 6,
      "outputs": [
        {
          "output_type": "stream",
          "text": [
            "ENTER THE USER NAME ----->chrishemsworth\n"
          ],
          "name": "stdout"
        }
      ]
    },
    {
      "cell_type": "code",
      "metadata": {
        "id": "kquEh0OeSH7p",
        "colab_type": "code",
        "colab": {
          "base_uri": "https://localhost:8080/",
          "height": 54
        },
        "outputId": "dc13181c-581a-43dd-88d0-ec02b25748ca"
      },
      "source": [
        "mod.download_profile(ap,profile_pic_only=True)"
      ],
      "execution_count": 7,
      "outputs": [
        {
          "output_type": "stream",
          "text": [
            "Stored ID 1822594644 for profile chrishemsworth.\n",
            "chrishemsworth/2020-04-07_11-20-36_UTC_profile_pic.jpg \n"
          ],
          "name": "stdout"
        }
      ]
    }
  ]
}