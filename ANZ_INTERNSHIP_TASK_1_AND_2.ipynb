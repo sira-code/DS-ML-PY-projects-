{
  "nbformat": 4,
  "nbformat_minor": 0,
  "metadata": {
    "colab": {
      "name": "ANZ INTERNSHIP TASK 1 AND 2",
      "provenance": [],
      "collapsed_sections": [],
      "authorship_tag": "ABX9TyM9DTjAAIeusrssTTwpfcty",
      "include_colab_link": true
    },
    "kernelspec": {
      "name": "python3",
      "display_name": "Python 3"
    }
  },
  "cells": [
    {
      "cell_type": "markdown",
      "metadata": {
        "id": "view-in-github",
        "colab_type": "text"
      },
      "source": [
        "<a href=\"https://colab.research.google.com/github/sira-code/DS-ML-PY-projects-/blob/master/ANZ_INTERNSHIP_TASK_1_AND_2.ipynb\" target=\"_parent\"><img src=\"https://colab.research.google.com/assets/colab-badge.svg\" alt=\"Open In Colab\"/></a>"
      ]
    },
    {
      "cell_type": "code",
      "metadata": {
        "id": "jR95X2MemffF",
        "colab_type": "code",
        "colab": {}
      },
      "source": [
        "#IMPORTING LIBRARIES:"
      ],
      "execution_count": 38,
      "outputs": []
    },
    {
      "cell_type": "code",
      "metadata": {
        "id": "nrvWHuRdnhph",
        "colab_type": "code",
        "colab": {}
      },
      "source": [
        "import numpy as np\n",
        "import pandas as pd\n",
        "import matplotlib.pyplot as plt"
      ],
      "execution_count": 66,
      "outputs": []
    },
    {
      "cell_type": "code",
      "metadata": {
        "id": "VUExm-Srnp_3",
        "colab_type": "code",
        "colab": {}
      },
      "source": [
        "#LOAD THE DATA"
      ],
      "execution_count": 40,
      "outputs": []
    },
    {
      "cell_type": "code",
      "metadata": {
        "id": "YTn1Zc-znDGi",
        "colab_type": "code",
        "colab": {
          "base_uri": "https://localhost:8080/",
          "height": 330
        },
        "outputId": "550d396d-fbea-4f02-b269-419416c2efca"
      },
      "source": [
        "df = pd.read_csv(\"ANZ.csv\")\n",
        "df.head()"
      ],
      "execution_count": 41,
      "outputs": [
        {
          "output_type": "execute_result",
          "data": {
            "text/html": [
              "<div>\n",
              "<style scoped>\n",
              "    .dataframe tbody tr th:only-of-type {\n",
              "        vertical-align: middle;\n",
              "    }\n",
              "\n",
              "    .dataframe tbody tr th {\n",
              "        vertical-align: top;\n",
              "    }\n",
              "\n",
              "    .dataframe thead th {\n",
              "        text-align: right;\n",
              "    }\n",
              "</style>\n",
              "<table border=\"1\" class=\"dataframe\">\n",
              "  <thead>\n",
              "    <tr style=\"text-align: right;\">\n",
              "      <th></th>\n",
              "      <th>status</th>\n",
              "      <th>card_present_flag</th>\n",
              "      <th>bpay_biller_code</th>\n",
              "      <th>account</th>\n",
              "      <th>currency</th>\n",
              "      <th>long_lat</th>\n",
              "      <th>txn_description</th>\n",
              "      <th>merchant_id</th>\n",
              "      <th>merchant_code</th>\n",
              "      <th>first_name</th>\n",
              "      <th>balance</th>\n",
              "      <th>date</th>\n",
              "      <th>gender</th>\n",
              "      <th>age</th>\n",
              "      <th>merchant_suburb</th>\n",
              "      <th>merchant_state</th>\n",
              "      <th>extraction</th>\n",
              "      <th>amount</th>\n",
              "      <th>transaction_id</th>\n",
              "      <th>country</th>\n",
              "      <th>customer_id</th>\n",
              "      <th>merchant_long_lat</th>\n",
              "      <th>movement</th>\n",
              "    </tr>\n",
              "  </thead>\n",
              "  <tbody>\n",
              "    <tr>\n",
              "      <th>0</th>\n",
              "      <td>authorized</td>\n",
              "      <td>1.0</td>\n",
              "      <td>NaN</td>\n",
              "      <td>ACC-1598451071</td>\n",
              "      <td>AUD</td>\n",
              "      <td>153.41 -27.95</td>\n",
              "      <td>POS</td>\n",
              "      <td>81c48296-73be-44a7-befa-d053f48ce7cd</td>\n",
              "      <td>NaN</td>\n",
              "      <td>Diana</td>\n",
              "      <td>35.39</td>\n",
              "      <td>8/1/2018</td>\n",
              "      <td>F</td>\n",
              "      <td>26</td>\n",
              "      <td>Ashmore</td>\n",
              "      <td>QLD</td>\n",
              "      <td>2018-08-01T01:01:15.000+0000</td>\n",
              "      <td>16.25</td>\n",
              "      <td>a623070bfead4541a6b0fff8a09e706c</td>\n",
              "      <td>Australia</td>\n",
              "      <td>CUS-2487424745</td>\n",
              "      <td>153.38 -27.99</td>\n",
              "      <td>debit</td>\n",
              "    </tr>\n",
              "    <tr>\n",
              "      <th>1</th>\n",
              "      <td>authorized</td>\n",
              "      <td>0.0</td>\n",
              "      <td>NaN</td>\n",
              "      <td>ACC-1598451071</td>\n",
              "      <td>AUD</td>\n",
              "      <td>153.41 -27.95</td>\n",
              "      <td>SALES-POS</td>\n",
              "      <td>830a451c-316e-4a6a-bf25-e37caedca49e</td>\n",
              "      <td>NaN</td>\n",
              "      <td>Diana</td>\n",
              "      <td>21.20</td>\n",
              "      <td>8/1/2018</td>\n",
              "      <td>F</td>\n",
              "      <td>26</td>\n",
              "      <td>Sydney</td>\n",
              "      <td>NSW</td>\n",
              "      <td>2018-08-01T01:13:45.000+0000</td>\n",
              "      <td>14.19</td>\n",
              "      <td>13270a2a902145da9db4c951e04b51b9</td>\n",
              "      <td>Australia</td>\n",
              "      <td>CUS-2487424745</td>\n",
              "      <td>151.21 -33.87</td>\n",
              "      <td>debit</td>\n",
              "    </tr>\n",
              "    <tr>\n",
              "      <th>2</th>\n",
              "      <td>authorized</td>\n",
              "      <td>1.0</td>\n",
              "      <td>NaN</td>\n",
              "      <td>ACC-1222300524</td>\n",
              "      <td>AUD</td>\n",
              "      <td>151.23 -33.94</td>\n",
              "      <td>POS</td>\n",
              "      <td>835c231d-8cdf-4e96-859d-e9d571760cf0</td>\n",
              "      <td>NaN</td>\n",
              "      <td>Michael</td>\n",
              "      <td>5.71</td>\n",
              "      <td>8/1/2018</td>\n",
              "      <td>M</td>\n",
              "      <td>38</td>\n",
              "      <td>Sydney</td>\n",
              "      <td>NSW</td>\n",
              "      <td>2018-08-01T01:26:15.000+0000</td>\n",
              "      <td>6.42</td>\n",
              "      <td>feb79e7ecd7048a5a36ec889d1a94270</td>\n",
              "      <td>Australia</td>\n",
              "      <td>CUS-2142601169</td>\n",
              "      <td>151.21 -33.87</td>\n",
              "      <td>debit</td>\n",
              "    </tr>\n",
              "    <tr>\n",
              "      <th>3</th>\n",
              "      <td>authorized</td>\n",
              "      <td>1.0</td>\n",
              "      <td>NaN</td>\n",
              "      <td>ACC-1037050564</td>\n",
              "      <td>AUD</td>\n",
              "      <td>153.10 -27.66</td>\n",
              "      <td>SALES-POS</td>\n",
              "      <td>48514682-c78a-4a88-b0da-2d6302e64673</td>\n",
              "      <td>NaN</td>\n",
              "      <td>Rhonda</td>\n",
              "      <td>2117.22</td>\n",
              "      <td>8/1/2018</td>\n",
              "      <td>F</td>\n",
              "      <td>40</td>\n",
              "      <td>Buderim</td>\n",
              "      <td>QLD</td>\n",
              "      <td>2018-08-01T01:38:45.000+0000</td>\n",
              "      <td>40.90</td>\n",
              "      <td>2698170da3704fd981b15e64a006079e</td>\n",
              "      <td>Australia</td>\n",
              "      <td>CUS-1614226872</td>\n",
              "      <td>153.05 -26.68</td>\n",
              "      <td>debit</td>\n",
              "    </tr>\n",
              "    <tr>\n",
              "      <th>4</th>\n",
              "      <td>authorized</td>\n",
              "      <td>1.0</td>\n",
              "      <td>NaN</td>\n",
              "      <td>ACC-1598451071</td>\n",
              "      <td>AUD</td>\n",
              "      <td>153.41 -27.95</td>\n",
              "      <td>SALES-POS</td>\n",
              "      <td>b4e02c10-0852-4273-b8fd-7b3395e32eb0</td>\n",
              "      <td>NaN</td>\n",
              "      <td>Diana</td>\n",
              "      <td>17.95</td>\n",
              "      <td>8/1/2018</td>\n",
              "      <td>F</td>\n",
              "      <td>26</td>\n",
              "      <td>Mermaid Beach</td>\n",
              "      <td>QLD</td>\n",
              "      <td>2018-08-01T01:51:15.000+0000</td>\n",
              "      <td>3.25</td>\n",
              "      <td>329adf79878c4cf0aeb4188b4691c266</td>\n",
              "      <td>Australia</td>\n",
              "      <td>CUS-2487424745</td>\n",
              "      <td>153.44 -28.06</td>\n",
              "      <td>debit</td>\n",
              "    </tr>\n",
              "  </tbody>\n",
              "</table>\n",
              "</div>"
            ],
            "text/plain": [
              "       status  card_present_flag  ... merchant_long_lat movement\n",
              "0  authorized                1.0  ...     153.38 -27.99    debit\n",
              "1  authorized                0.0  ...     151.21 -33.87    debit\n",
              "2  authorized                1.0  ...     151.21 -33.87    debit\n",
              "3  authorized                1.0  ...     153.05 -26.68    debit\n",
              "4  authorized                1.0  ...     153.44 -28.06    debit\n",
              "\n",
              "[5 rows x 23 columns]"
            ]
          },
          "metadata": {
            "tags": []
          },
          "execution_count": 41
        }
      ]
    },
    {
      "cell_type": "code",
      "metadata": {
        "id": "nfdJWfu-ndPw",
        "colab_type": "code",
        "colab": {}
      },
      "source": [
        "# DESCRIBE DATA"
      ],
      "execution_count": 42,
      "outputs": []
    },
    {
      "cell_type": "code",
      "metadata": {
        "id": "_GsXQqQUoEqX",
        "colab_type": "code",
        "colab": {
          "base_uri": "https://localhost:8080/",
          "height": 36
        },
        "outputId": "39d95521-9e32-46b9-beaa-4ffe038bcca7"
      },
      "source": [
        "df.shape"
      ],
      "execution_count": 43,
      "outputs": [
        {
          "output_type": "execute_result",
          "data": {
            "text/plain": [
              "(12043, 23)"
            ]
          },
          "metadata": {
            "tags": []
          },
          "execution_count": 43
        }
      ]
    },
    {
      "cell_type": "code",
      "metadata": {
        "id": "D4xLHC4qoOca",
        "colab_type": "code",
        "colab": {
          "base_uri": "https://localhost:8080/",
          "height": 449
        },
        "outputId": "5ee89edb-2f88-4236-c524-ecb31c19d24a"
      },
      "source": [
        "df.describe(include='all')"
      ],
      "execution_count": 44,
      "outputs": [
        {
          "output_type": "execute_result",
          "data": {
            "text/html": [
              "<div>\n",
              "<style scoped>\n",
              "    .dataframe tbody tr th:only-of-type {\n",
              "        vertical-align: middle;\n",
              "    }\n",
              "\n",
              "    .dataframe tbody tr th {\n",
              "        vertical-align: top;\n",
              "    }\n",
              "\n",
              "    .dataframe thead th {\n",
              "        text-align: right;\n",
              "    }\n",
              "</style>\n",
              "<table border=\"1\" class=\"dataframe\">\n",
              "  <thead>\n",
              "    <tr style=\"text-align: right;\">\n",
              "      <th></th>\n",
              "      <th>status</th>\n",
              "      <th>card_present_flag</th>\n",
              "      <th>bpay_biller_code</th>\n",
              "      <th>account</th>\n",
              "      <th>currency</th>\n",
              "      <th>long_lat</th>\n",
              "      <th>txn_description</th>\n",
              "      <th>merchant_id</th>\n",
              "      <th>merchant_code</th>\n",
              "      <th>first_name</th>\n",
              "      <th>balance</th>\n",
              "      <th>date</th>\n",
              "      <th>gender</th>\n",
              "      <th>age</th>\n",
              "      <th>merchant_suburb</th>\n",
              "      <th>merchant_state</th>\n",
              "      <th>extraction</th>\n",
              "      <th>amount</th>\n",
              "      <th>transaction_id</th>\n",
              "      <th>country</th>\n",
              "      <th>customer_id</th>\n",
              "      <th>merchant_long_lat</th>\n",
              "      <th>movement</th>\n",
              "    </tr>\n",
              "  </thead>\n",
              "  <tbody>\n",
              "    <tr>\n",
              "      <th>count</th>\n",
              "      <td>12043</td>\n",
              "      <td>7717.000000</td>\n",
              "      <td>885</td>\n",
              "      <td>12043</td>\n",
              "      <td>12043</td>\n",
              "      <td>12043</td>\n",
              "      <td>12043</td>\n",
              "      <td>7717</td>\n",
              "      <td>883.0</td>\n",
              "      <td>12043</td>\n",
              "      <td>12043.000000</td>\n",
              "      <td>12043</td>\n",
              "      <td>12043</td>\n",
              "      <td>12043.000000</td>\n",
              "      <td>7717</td>\n",
              "      <td>7717</td>\n",
              "      <td>12043</td>\n",
              "      <td>12043.000000</td>\n",
              "      <td>12043</td>\n",
              "      <td>12043</td>\n",
              "      <td>12043</td>\n",
              "      <td>7717</td>\n",
              "      <td>12043</td>\n",
              "    </tr>\n",
              "    <tr>\n",
              "      <th>unique</th>\n",
              "      <td>2</td>\n",
              "      <td>NaN</td>\n",
              "      <td>3</td>\n",
              "      <td>100</td>\n",
              "      <td>1</td>\n",
              "      <td>100</td>\n",
              "      <td>6</td>\n",
              "      <td>5725</td>\n",
              "      <td>NaN</td>\n",
              "      <td>80</td>\n",
              "      <td>NaN</td>\n",
              "      <td>91</td>\n",
              "      <td>2</td>\n",
              "      <td>NaN</td>\n",
              "      <td>1609</td>\n",
              "      <td>8</td>\n",
              "      <td>9442</td>\n",
              "      <td>NaN</td>\n",
              "      <td>12043</td>\n",
              "      <td>1</td>\n",
              "      <td>100</td>\n",
              "      <td>2703</td>\n",
              "      <td>2</td>\n",
              "    </tr>\n",
              "    <tr>\n",
              "      <th>top</th>\n",
              "      <td>authorized</td>\n",
              "      <td>NaN</td>\n",
              "      <td>0</td>\n",
              "      <td>ACC-1598451071</td>\n",
              "      <td>AUD</td>\n",
              "      <td>153.41 -27.95</td>\n",
              "      <td>SALES-POS</td>\n",
              "      <td>106e1272-44ab-4dcb-a438-dd98e0071e51</td>\n",
              "      <td>NaN</td>\n",
              "      <td>Michael</td>\n",
              "      <td>NaN</td>\n",
              "      <td>9/28/2018</td>\n",
              "      <td>M</td>\n",
              "      <td>NaN</td>\n",
              "      <td>Melbourne</td>\n",
              "      <td>NSW</td>\n",
              "      <td>2018-09-03T11:00:00.000+0000</td>\n",
              "      <td>NaN</td>\n",
              "      <td>1ac5e6c847844edeb61242dd28b622c2</td>\n",
              "      <td>Australia</td>\n",
              "      <td>CUS-2487424745</td>\n",
              "      <td>151.21 -33.87</td>\n",
              "      <td>debit</td>\n",
              "    </tr>\n",
              "    <tr>\n",
              "      <th>freq</th>\n",
              "      <td>7717</td>\n",
              "      <td>NaN</td>\n",
              "      <td>883</td>\n",
              "      <td>578</td>\n",
              "      <td>12043</td>\n",
              "      <td>578</td>\n",
              "      <td>3934</td>\n",
              "      <td>14</td>\n",
              "      <td>NaN</td>\n",
              "      <td>746</td>\n",
              "      <td>NaN</td>\n",
              "      <td>174</td>\n",
              "      <td>6285</td>\n",
              "      <td>NaN</td>\n",
              "      <td>255</td>\n",
              "      <td>2169</td>\n",
              "      <td>10</td>\n",
              "      <td>NaN</td>\n",
              "      <td>1</td>\n",
              "      <td>12043</td>\n",
              "      <td>578</td>\n",
              "      <td>145</td>\n",
              "      <td>11160</td>\n",
              "    </tr>\n",
              "    <tr>\n",
              "      <th>mean</th>\n",
              "      <td>NaN</td>\n",
              "      <td>0.802644</td>\n",
              "      <td>NaN</td>\n",
              "      <td>NaN</td>\n",
              "      <td>NaN</td>\n",
              "      <td>NaN</td>\n",
              "      <td>NaN</td>\n",
              "      <td>NaN</td>\n",
              "      <td>0.0</td>\n",
              "      <td>NaN</td>\n",
              "      <td>14704.195553</td>\n",
              "      <td>NaN</td>\n",
              "      <td>NaN</td>\n",
              "      <td>30.582330</td>\n",
              "      <td>NaN</td>\n",
              "      <td>NaN</td>\n",
              "      <td>NaN</td>\n",
              "      <td>187.933588</td>\n",
              "      <td>NaN</td>\n",
              "      <td>NaN</td>\n",
              "      <td>NaN</td>\n",
              "      <td>NaN</td>\n",
              "      <td>NaN</td>\n",
              "    </tr>\n",
              "    <tr>\n",
              "      <th>std</th>\n",
              "      <td>NaN</td>\n",
              "      <td>0.398029</td>\n",
              "      <td>NaN</td>\n",
              "      <td>NaN</td>\n",
              "      <td>NaN</td>\n",
              "      <td>NaN</td>\n",
              "      <td>NaN</td>\n",
              "      <td>NaN</td>\n",
              "      <td>0.0</td>\n",
              "      <td>NaN</td>\n",
              "      <td>31503.722652</td>\n",
              "      <td>NaN</td>\n",
              "      <td>NaN</td>\n",
              "      <td>10.046343</td>\n",
              "      <td>NaN</td>\n",
              "      <td>NaN</td>\n",
              "      <td>NaN</td>\n",
              "      <td>592.599934</td>\n",
              "      <td>NaN</td>\n",
              "      <td>NaN</td>\n",
              "      <td>NaN</td>\n",
              "      <td>NaN</td>\n",
              "      <td>NaN</td>\n",
              "    </tr>\n",
              "    <tr>\n",
              "      <th>min</th>\n",
              "      <td>NaN</td>\n",
              "      <td>0.000000</td>\n",
              "      <td>NaN</td>\n",
              "      <td>NaN</td>\n",
              "      <td>NaN</td>\n",
              "      <td>NaN</td>\n",
              "      <td>NaN</td>\n",
              "      <td>NaN</td>\n",
              "      <td>0.0</td>\n",
              "      <td>NaN</td>\n",
              "      <td>0.240000</td>\n",
              "      <td>NaN</td>\n",
              "      <td>NaN</td>\n",
              "      <td>18.000000</td>\n",
              "      <td>NaN</td>\n",
              "      <td>NaN</td>\n",
              "      <td>NaN</td>\n",
              "      <td>0.100000</td>\n",
              "      <td>NaN</td>\n",
              "      <td>NaN</td>\n",
              "      <td>NaN</td>\n",
              "      <td>NaN</td>\n",
              "      <td>NaN</td>\n",
              "    </tr>\n",
              "    <tr>\n",
              "      <th>25%</th>\n",
              "      <td>NaN</td>\n",
              "      <td>1.000000</td>\n",
              "      <td>NaN</td>\n",
              "      <td>NaN</td>\n",
              "      <td>NaN</td>\n",
              "      <td>NaN</td>\n",
              "      <td>NaN</td>\n",
              "      <td>NaN</td>\n",
              "      <td>0.0</td>\n",
              "      <td>NaN</td>\n",
              "      <td>3158.585000</td>\n",
              "      <td>NaN</td>\n",
              "      <td>NaN</td>\n",
              "      <td>22.000000</td>\n",
              "      <td>NaN</td>\n",
              "      <td>NaN</td>\n",
              "      <td>NaN</td>\n",
              "      <td>16.000000</td>\n",
              "      <td>NaN</td>\n",
              "      <td>NaN</td>\n",
              "      <td>NaN</td>\n",
              "      <td>NaN</td>\n",
              "      <td>NaN</td>\n",
              "    </tr>\n",
              "    <tr>\n",
              "      <th>50%</th>\n",
              "      <td>NaN</td>\n",
              "      <td>1.000000</td>\n",
              "      <td>NaN</td>\n",
              "      <td>NaN</td>\n",
              "      <td>NaN</td>\n",
              "      <td>NaN</td>\n",
              "      <td>NaN</td>\n",
              "      <td>NaN</td>\n",
              "      <td>0.0</td>\n",
              "      <td>NaN</td>\n",
              "      <td>6432.010000</td>\n",
              "      <td>NaN</td>\n",
              "      <td>NaN</td>\n",
              "      <td>28.000000</td>\n",
              "      <td>NaN</td>\n",
              "      <td>NaN</td>\n",
              "      <td>NaN</td>\n",
              "      <td>29.000000</td>\n",
              "      <td>NaN</td>\n",
              "      <td>NaN</td>\n",
              "      <td>NaN</td>\n",
              "      <td>NaN</td>\n",
              "      <td>NaN</td>\n",
              "    </tr>\n",
              "    <tr>\n",
              "      <th>75%</th>\n",
              "      <td>NaN</td>\n",
              "      <td>1.000000</td>\n",
              "      <td>NaN</td>\n",
              "      <td>NaN</td>\n",
              "      <td>NaN</td>\n",
              "      <td>NaN</td>\n",
              "      <td>NaN</td>\n",
              "      <td>NaN</td>\n",
              "      <td>0.0</td>\n",
              "      <td>NaN</td>\n",
              "      <td>12465.945000</td>\n",
              "      <td>NaN</td>\n",
              "      <td>NaN</td>\n",
              "      <td>38.000000</td>\n",
              "      <td>NaN</td>\n",
              "      <td>NaN</td>\n",
              "      <td>NaN</td>\n",
              "      <td>53.655000</td>\n",
              "      <td>NaN</td>\n",
              "      <td>NaN</td>\n",
              "      <td>NaN</td>\n",
              "      <td>NaN</td>\n",
              "      <td>NaN</td>\n",
              "    </tr>\n",
              "    <tr>\n",
              "      <th>max</th>\n",
              "      <td>NaN</td>\n",
              "      <td>1.000000</td>\n",
              "      <td>NaN</td>\n",
              "      <td>NaN</td>\n",
              "      <td>NaN</td>\n",
              "      <td>NaN</td>\n",
              "      <td>NaN</td>\n",
              "      <td>NaN</td>\n",
              "      <td>0.0</td>\n",
              "      <td>NaN</td>\n",
              "      <td>267128.520000</td>\n",
              "      <td>NaN</td>\n",
              "      <td>NaN</td>\n",
              "      <td>78.000000</td>\n",
              "      <td>NaN</td>\n",
              "      <td>NaN</td>\n",
              "      <td>NaN</td>\n",
              "      <td>8835.980000</td>\n",
              "      <td>NaN</td>\n",
              "      <td>NaN</td>\n",
              "      <td>NaN</td>\n",
              "      <td>NaN</td>\n",
              "      <td>NaN</td>\n",
              "    </tr>\n",
              "  </tbody>\n",
              "</table>\n",
              "</div>"
            ],
            "text/plain": [
              "            status  card_present_flag  ... merchant_long_lat movement\n",
              "count        12043        7717.000000  ...              7717    12043\n",
              "unique           2                NaN  ...              2703        2\n",
              "top     authorized                NaN  ...     151.21 -33.87    debit\n",
              "freq          7717                NaN  ...               145    11160\n",
              "mean           NaN           0.802644  ...               NaN      NaN\n",
              "std            NaN           0.398029  ...               NaN      NaN\n",
              "min            NaN           0.000000  ...               NaN      NaN\n",
              "25%            NaN           1.000000  ...               NaN      NaN\n",
              "50%            NaN           1.000000  ...               NaN      NaN\n",
              "75%            NaN           1.000000  ...               NaN      NaN\n",
              "max            NaN           1.000000  ...               NaN      NaN\n",
              "\n",
              "[11 rows x 23 columns]"
            ]
          },
          "metadata": {
            "tags": []
          },
          "execution_count": 44
        }
      ]
    },
    {
      "cell_type": "code",
      "metadata": {
        "id": "-9PhXZdWoSjK",
        "colab_type": "code",
        "colab": {
          "base_uri": "https://localhost:8080/",
          "height": 148
        },
        "outputId": "f34e30eb-1267-46c6-a856-ee728b72d848"
      },
      "source": [
        "df.columns"
      ],
      "execution_count": 45,
      "outputs": [
        {
          "output_type": "execute_result",
          "data": {
            "text/plain": [
              "Index(['status', 'card_present_flag', 'bpay_biller_code', 'account',\n",
              "       'currency', 'long_lat', 'txn_description', 'merchant_id',\n",
              "       'merchant_code', 'first_name', 'balance', 'date', 'gender', 'age',\n",
              "       'merchant_suburb', 'merchant_state', 'extraction', 'amount',\n",
              "       'transaction_id', 'country', 'customer_id', 'merchant_long_lat',\n",
              "       'movement'],\n",
              "      dtype='object')"
            ]
          },
          "metadata": {
            "tags": []
          },
          "execution_count": 45
        }
      ]
    },
    {
      "cell_type": "code",
      "metadata": {
        "id": "jPrhOhFWos5A",
        "colab_type": "code",
        "colab": {
          "base_uri": "https://localhost:8080/",
          "height": 578
        },
        "outputId": "c724850a-91f3-480f-ce47-f468320c7c65"
      },
      "source": [
        "df.info()"
      ],
      "execution_count": 46,
      "outputs": [
        {
          "output_type": "stream",
          "text": [
            "<class 'pandas.core.frame.DataFrame'>\n",
            "RangeIndex: 12043 entries, 0 to 12042\n",
            "Data columns (total 23 columns):\n",
            " #   Column             Non-Null Count  Dtype  \n",
            "---  ------             --------------  -----  \n",
            " 0   status             12043 non-null  object \n",
            " 1   card_present_flag  7717 non-null   float64\n",
            " 2   bpay_biller_code   885 non-null    object \n",
            " 3   account            12043 non-null  object \n",
            " 4   currency           12043 non-null  object \n",
            " 5   long_lat           12043 non-null  object \n",
            " 6   txn_description    12043 non-null  object \n",
            " 7   merchant_id        7717 non-null   object \n",
            " 8   merchant_code      883 non-null    float64\n",
            " 9   first_name         12043 non-null  object \n",
            " 10  balance            12043 non-null  float64\n",
            " 11  date               12043 non-null  object \n",
            " 12  gender             12043 non-null  object \n",
            " 13  age                12043 non-null  int64  \n",
            " 14  merchant_suburb    7717 non-null   object \n",
            " 15  merchant_state     7717 non-null   object \n",
            " 16  extraction         12043 non-null  object \n",
            " 17  amount             12043 non-null  float64\n",
            " 18  transaction_id     12043 non-null  object \n",
            " 19  country            12043 non-null  object \n",
            " 20  customer_id        12043 non-null  object \n",
            " 21  merchant_long_lat  7717 non-null   object \n",
            " 22  movement           12043 non-null  object \n",
            "dtypes: float64(4), int64(1), object(18)\n",
            "memory usage: 2.1+ MB\n"
          ],
          "name": "stdout"
        }
      ]
    },
    {
      "cell_type": "code",
      "metadata": {
        "id": "AbLXwpgVoy0I",
        "colab_type": "code",
        "colab": {
          "base_uri": "https://localhost:8080/",
          "height": 466
        },
        "outputId": "6715013c-97c5-43b1-a515-6afca79323a5"
      },
      "source": [
        "df.isnull().sum()"
      ],
      "execution_count": 47,
      "outputs": [
        {
          "output_type": "execute_result",
          "data": {
            "text/plain": [
              "status                   0\n",
              "card_present_flag     4326\n",
              "bpay_biller_code     11158\n",
              "account                  0\n",
              "currency                 0\n",
              "long_lat                 0\n",
              "txn_description          0\n",
              "merchant_id           4326\n",
              "merchant_code        11160\n",
              "first_name               0\n",
              "balance                  0\n",
              "date                     0\n",
              "gender                   0\n",
              "age                      0\n",
              "merchant_suburb       4326\n",
              "merchant_state        4326\n",
              "extraction               0\n",
              "amount                   0\n",
              "transaction_id           0\n",
              "country                  0\n",
              "customer_id              0\n",
              "merchant_long_lat     4326\n",
              "movement                 0\n",
              "dtype: int64"
            ]
          },
          "metadata": {
            "tags": []
          },
          "execution_count": 47
        }
      ]
    },
    {
      "cell_type": "code",
      "metadata": {
        "id": "dPyx5HNzo8eA",
        "colab_type": "code",
        "colab": {}
      },
      "source": [
        "#EXPLORATORY DATA ANALYSIS(EDA)"
      ],
      "execution_count": 48,
      "outputs": []
    },
    {
      "cell_type": "code",
      "metadata": {
        "id": "YtEcCvaOpDAI",
        "colab_type": "code",
        "colab": {
          "base_uri": "https://localhost:8080/",
          "height": 36
        },
        "outputId": "50b08e91-b25b-4a0b-bbf6-d1efcaa9dc16"
      },
      "source": [
        "type(df['date'])"
      ],
      "execution_count": 49,
      "outputs": [
        {
          "output_type": "execute_result",
          "data": {
            "text/plain": [
              "pandas.core.series.Series"
            ]
          },
          "metadata": {
            "tags": []
          },
          "execution_count": 49
        }
      ]
    },
    {
      "cell_type": "code",
      "metadata": {
        "id": "5hYIpggkpDEx",
        "colab_type": "code",
        "colab": {}
      },
      "source": [
        "df['date']=pd.to_datetime(df['date'])"
      ],
      "execution_count": 50,
      "outputs": []
    },
    {
      "cell_type": "code",
      "metadata": {
        "id": "5kYqm8-RpDMg",
        "colab_type": "code",
        "colab": {
          "base_uri": "https://localhost:8080/",
          "height": 285
        },
        "outputId": "f37e5a4f-3937-4550-a694-64afd7a17809"
      },
      "source": [
        "df.head(3)"
      ],
      "execution_count": 51,
      "outputs": [
        {
          "output_type": "execute_result",
          "data": {
            "text/html": [
              "<div>\n",
              "<style scoped>\n",
              "    .dataframe tbody tr th:only-of-type {\n",
              "        vertical-align: middle;\n",
              "    }\n",
              "\n",
              "    .dataframe tbody tr th {\n",
              "        vertical-align: top;\n",
              "    }\n",
              "\n",
              "    .dataframe thead th {\n",
              "        text-align: right;\n",
              "    }\n",
              "</style>\n",
              "<table border=\"1\" class=\"dataframe\">\n",
              "  <thead>\n",
              "    <tr style=\"text-align: right;\">\n",
              "      <th></th>\n",
              "      <th>status</th>\n",
              "      <th>card_present_flag</th>\n",
              "      <th>bpay_biller_code</th>\n",
              "      <th>account</th>\n",
              "      <th>currency</th>\n",
              "      <th>long_lat</th>\n",
              "      <th>txn_description</th>\n",
              "      <th>merchant_id</th>\n",
              "      <th>merchant_code</th>\n",
              "      <th>first_name</th>\n",
              "      <th>balance</th>\n",
              "      <th>date</th>\n",
              "      <th>gender</th>\n",
              "      <th>age</th>\n",
              "      <th>merchant_suburb</th>\n",
              "      <th>merchant_state</th>\n",
              "      <th>extraction</th>\n",
              "      <th>amount</th>\n",
              "      <th>transaction_id</th>\n",
              "      <th>country</th>\n",
              "      <th>customer_id</th>\n",
              "      <th>merchant_long_lat</th>\n",
              "      <th>movement</th>\n",
              "    </tr>\n",
              "  </thead>\n",
              "  <tbody>\n",
              "    <tr>\n",
              "      <th>0</th>\n",
              "      <td>authorized</td>\n",
              "      <td>1.0</td>\n",
              "      <td>NaN</td>\n",
              "      <td>ACC-1598451071</td>\n",
              "      <td>AUD</td>\n",
              "      <td>153.41 -27.95</td>\n",
              "      <td>POS</td>\n",
              "      <td>81c48296-73be-44a7-befa-d053f48ce7cd</td>\n",
              "      <td>NaN</td>\n",
              "      <td>Diana</td>\n",
              "      <td>35.39</td>\n",
              "      <td>2018-08-01</td>\n",
              "      <td>F</td>\n",
              "      <td>26</td>\n",
              "      <td>Ashmore</td>\n",
              "      <td>QLD</td>\n",
              "      <td>2018-08-01T01:01:15.000+0000</td>\n",
              "      <td>16.25</td>\n",
              "      <td>a623070bfead4541a6b0fff8a09e706c</td>\n",
              "      <td>Australia</td>\n",
              "      <td>CUS-2487424745</td>\n",
              "      <td>153.38 -27.99</td>\n",
              "      <td>debit</td>\n",
              "    </tr>\n",
              "    <tr>\n",
              "      <th>1</th>\n",
              "      <td>authorized</td>\n",
              "      <td>0.0</td>\n",
              "      <td>NaN</td>\n",
              "      <td>ACC-1598451071</td>\n",
              "      <td>AUD</td>\n",
              "      <td>153.41 -27.95</td>\n",
              "      <td>SALES-POS</td>\n",
              "      <td>830a451c-316e-4a6a-bf25-e37caedca49e</td>\n",
              "      <td>NaN</td>\n",
              "      <td>Diana</td>\n",
              "      <td>21.20</td>\n",
              "      <td>2018-08-01</td>\n",
              "      <td>F</td>\n",
              "      <td>26</td>\n",
              "      <td>Sydney</td>\n",
              "      <td>NSW</td>\n",
              "      <td>2018-08-01T01:13:45.000+0000</td>\n",
              "      <td>14.19</td>\n",
              "      <td>13270a2a902145da9db4c951e04b51b9</td>\n",
              "      <td>Australia</td>\n",
              "      <td>CUS-2487424745</td>\n",
              "      <td>151.21 -33.87</td>\n",
              "      <td>debit</td>\n",
              "    </tr>\n",
              "    <tr>\n",
              "      <th>2</th>\n",
              "      <td>authorized</td>\n",
              "      <td>1.0</td>\n",
              "      <td>NaN</td>\n",
              "      <td>ACC-1222300524</td>\n",
              "      <td>AUD</td>\n",
              "      <td>151.23 -33.94</td>\n",
              "      <td>POS</td>\n",
              "      <td>835c231d-8cdf-4e96-859d-e9d571760cf0</td>\n",
              "      <td>NaN</td>\n",
              "      <td>Michael</td>\n",
              "      <td>5.71</td>\n",
              "      <td>2018-08-01</td>\n",
              "      <td>M</td>\n",
              "      <td>38</td>\n",
              "      <td>Sydney</td>\n",
              "      <td>NSW</td>\n",
              "      <td>2018-08-01T01:26:15.000+0000</td>\n",
              "      <td>6.42</td>\n",
              "      <td>feb79e7ecd7048a5a36ec889d1a94270</td>\n",
              "      <td>Australia</td>\n",
              "      <td>CUS-2142601169</td>\n",
              "      <td>151.21 -33.87</td>\n",
              "      <td>debit</td>\n",
              "    </tr>\n",
              "  </tbody>\n",
              "</table>\n",
              "</div>"
            ],
            "text/plain": [
              "       status  card_present_flag  ... merchant_long_lat movement\n",
              "0  authorized                1.0  ...     153.38 -27.99    debit\n",
              "1  authorized                0.0  ...     151.21 -33.87    debit\n",
              "2  authorized                1.0  ...     151.21 -33.87    debit\n",
              "\n",
              "[3 rows x 23 columns]"
            ]
          },
          "metadata": {
            "tags": []
          },
          "execution_count": 51
        }
      ]
    },
    {
      "cell_type": "code",
      "metadata": {
        "id": "-OYhnS_ApDSw",
        "colab_type": "code",
        "colab": {}
      },
      "source": [
        "df['weekday']=df['date'].dt.day_name()"
      ],
      "execution_count": 52,
      "outputs": []
    },
    {
      "cell_type": "code",
      "metadata": {
        "id": "Cr35KHewqX9Z",
        "colab_type": "code",
        "colab": {
          "base_uri": "https://localhost:8080/",
          "height": 223
        },
        "outputId": "8a1bc830-b79e-42a6-8a83-45f33ecda504"
      },
      "source": [
        "df.weekday.head(10)"
      ],
      "execution_count": 53,
      "outputs": [
        {
          "output_type": "execute_result",
          "data": {
            "text/plain": [
              "0    Wednesday\n",
              "1    Wednesday\n",
              "2    Wednesday\n",
              "3    Wednesday\n",
              "4    Wednesday\n",
              "5    Wednesday\n",
              "6    Wednesday\n",
              "7    Wednesday\n",
              "8    Wednesday\n",
              "9    Wednesday\n",
              "Name: weekday, dtype: object"
            ]
          },
          "metadata": {
            "tags": []
          },
          "execution_count": 53
        }
      ]
    },
    {
      "cell_type": "code",
      "metadata": {
        "id": "-kM_W_fupDaL",
        "colab_type": "code",
        "colab": {}
      },
      "source": [
        "df['monthname']=df['date'].dt.month_name()"
      ],
      "execution_count": 54,
      "outputs": []
    },
    {
      "cell_type": "code",
      "metadata": {
        "id": "UyQ6BbI4pDiK",
        "colab_type": "code",
        "colab": {
          "base_uri": "https://localhost:8080/",
          "height": 223
        },
        "outputId": "c35e0752-f1fa-406d-8d1f-9dffae59f854"
      },
      "source": [
        "df.monthname.head(10)"
      ],
      "execution_count": 55,
      "outputs": [
        {
          "output_type": "execute_result",
          "data": {
            "text/plain": [
              "0    August\n",
              "1    August\n",
              "2    August\n",
              "3    August\n",
              "4    August\n",
              "5    August\n",
              "6    August\n",
              "7    August\n",
              "8    August\n",
              "9    August\n",
              "Name: monthname, dtype: object"
            ]
          },
          "metadata": {
            "tags": []
          },
          "execution_count": 55
        }
      ]
    },
    {
      "cell_type": "code",
      "metadata": {
        "id": "J_6UQYtNpDpG",
        "colab_type": "code",
        "colab": {
          "base_uri": "https://localhost:8080/",
          "height": 206
        },
        "outputId": "ab6aef3c-02af-483e-cd1b-3d50d10a977e"
      },
      "source": [
        "df.corr()"
      ],
      "execution_count": 56,
      "outputs": [
        {
          "output_type": "execute_result",
          "data": {
            "text/html": [
              "<div>\n",
              "<style scoped>\n",
              "    .dataframe tbody tr th:only-of-type {\n",
              "        vertical-align: middle;\n",
              "    }\n",
              "\n",
              "    .dataframe tbody tr th {\n",
              "        vertical-align: top;\n",
              "    }\n",
              "\n",
              "    .dataframe thead th {\n",
              "        text-align: right;\n",
              "    }\n",
              "</style>\n",
              "<table border=\"1\" class=\"dataframe\">\n",
              "  <thead>\n",
              "    <tr style=\"text-align: right;\">\n",
              "      <th></th>\n",
              "      <th>card_present_flag</th>\n",
              "      <th>merchant_code</th>\n",
              "      <th>balance</th>\n",
              "      <th>age</th>\n",
              "      <th>amount</th>\n",
              "    </tr>\n",
              "  </thead>\n",
              "  <tbody>\n",
              "    <tr>\n",
              "      <th>card_present_flag</th>\n",
              "      <td>1.000000</td>\n",
              "      <td>NaN</td>\n",
              "      <td>0.005925</td>\n",
              "      <td>-0.008405</td>\n",
              "      <td>-0.002074</td>\n",
              "    </tr>\n",
              "    <tr>\n",
              "      <th>merchant_code</th>\n",
              "      <td>NaN</td>\n",
              "      <td>NaN</td>\n",
              "      <td>NaN</td>\n",
              "      <td>NaN</td>\n",
              "      <td>NaN</td>\n",
              "    </tr>\n",
              "    <tr>\n",
              "      <th>balance</th>\n",
              "      <td>0.005925</td>\n",
              "      <td>NaN</td>\n",
              "      <td>1.000000</td>\n",
              "      <td>0.199329</td>\n",
              "      <td>0.059178</td>\n",
              "    </tr>\n",
              "    <tr>\n",
              "      <th>age</th>\n",
              "      <td>-0.008405</td>\n",
              "      <td>NaN</td>\n",
              "      <td>0.199329</td>\n",
              "      <td>1.000000</td>\n",
              "      <td>0.029980</td>\n",
              "    </tr>\n",
              "    <tr>\n",
              "      <th>amount</th>\n",
              "      <td>-0.002074</td>\n",
              "      <td>NaN</td>\n",
              "      <td>0.059178</td>\n",
              "      <td>0.029980</td>\n",
              "      <td>1.000000</td>\n",
              "    </tr>\n",
              "  </tbody>\n",
              "</table>\n",
              "</div>"
            ],
            "text/plain": [
              "                   card_present_flag  merchant_code  ...       age    amount\n",
              "card_present_flag           1.000000            NaN  ... -0.008405 -0.002074\n",
              "merchant_code                    NaN            NaN  ...       NaN       NaN\n",
              "balance                     0.005925            NaN  ...  0.199329  0.059178\n",
              "age                        -0.008405            NaN  ...  1.000000  0.029980\n",
              "amount                     -0.002074            NaN  ...  0.029980  1.000000\n",
              "\n",
              "[5 rows x 5 columns]"
            ]
          },
          "metadata": {
            "tags": []
          },
          "execution_count": 56
        }
      ]
    },
    {
      "cell_type": "code",
      "metadata": {
        "id": "IyYnYuwKrXY4",
        "colab_type": "code",
        "colab": {}
      },
      "source": [
        "import seaborn as sns"
      ],
      "execution_count": 57,
      "outputs": []
    },
    {
      "cell_type": "code",
      "metadata": {
        "id": "0mGeYVGQpDoD",
        "colab_type": "code",
        "colab": {
          "base_uri": "https://localhost:8080/",
          "height": 348
        },
        "outputId": "7baea886-be93-458e-bb86-dd8eee962408"
      },
      "source": [
        "corr = df.corr()\n",
        "ax = sns.heatmap(corr,cmap='OrRd',annot=True,square= True)"
      ],
      "execution_count": 58,
      "outputs": [
        {
          "output_type": "display_data",
          "data": {
            "image/png": "[encoded data removed]",
            "text/plain": [
              "<Figure size 432x288 with 2 Axes>"
            ]
          },
          "metadata": {
            "tags": [],
            "needs_background": "light"
          }
        }
      ]
    },
    {
      "cell_type": "code",
      "metadata": {
        "id": "8kGPhpgXpDms",
        "colab_type": "code",
        "colab": {}
      },
      "source": [
        "#FINDING THE MAX AND MIN TRANSACTION OF EACH MONTH"
      ],
      "execution_count": 59,
      "outputs": []
    },
    {
      "cell_type": "code",
      "metadata": {
        "id": "695rbzIupDf3",
        "colab_type": "code",
        "colab": {
          "base_uri": "https://localhost:8080/",
          "height": 36
        },
        "outputId": "73cb8322-7884-46d9-b0c1-b7876b276c12"
      },
      "source": [
        "oct = df[df['monthname']=='October']\n",
        "oct.loc[:,'amount'].mean()"
      ],
      "execution_count": 68,
      "outputs": [
        {
          "output_type": "execute_result",
          "data": {
            "text/plain": [
              "196.42732321996542"
            ]
          },
          "metadata": {
            "tags": []
          },
          "execution_count": 68
        }
      ]
    },
    {
      "cell_type": "code",
      "metadata": {
        "id": "UeqqllR1x0B4",
        "colab_type": "code",
        "colab": {
          "base_uri": "https://localhost:8080/",
          "height": 36
        },
        "outputId": "5fc5ef81-16b9-4609-f194-34eff6d73fb8"
      },
      "source": [
        "#oct.loc[:,'amount'].min()\n",
        "oct.loc[:,'amount'].max()"
      ],
      "execution_count": 70,
      "outputs": [
        {
          "output_type": "execute_result",
          "data": {
            "text/plain": [
              "8835.98"
            ]
          },
          "metadata": {
            "tags": []
          },
          "execution_count": 70
        }
      ]
    },
    {
      "cell_type": "code",
      "metadata": {
        "id": "ArRBMc5Ex_Nc",
        "colab_type": "code",
        "colab": {
          "base_uri": "https://localhost:8080/",
          "height": 36
        },
        "outputId": "31d94210-0788-40dd-ef82-b7704e637922"
      },
      "source": [
        "oct.loc[:,'amount'].min()"
      ],
      "execution_count": 71,
      "outputs": [
        {
          "output_type": "execute_result",
          "data": {
            "text/plain": [
              "0.1"
            ]
          },
          "metadata": {
            "tags": []
          },
          "execution_count": 71
        }
      ]
    },
    {
      "cell_type": "code",
      "metadata": {
        "id": "Q6uP3aucpDeD",
        "colab_type": "code",
        "colab": {
          "base_uri": "https://localhost:8080/",
          "height": 36
        },
        "outputId": "131edebf-8285-48ef-fe0e-9362f9ea6c61"
      },
      "source": [
        "sept = df[df['monthname']=='September']\n",
        "sept.loc[:,'amount'].mean()"
      ],
      "execution_count": 72,
      "outputs": [
        {
          "output_type": "execute_result",
          "data": {
            "text/plain": [
              "182.04590331422853"
            ]
          },
          "metadata": {
            "tags": []
          },
          "execution_count": 72
        }
      ]
    },
    {
      "cell_type": "code",
      "metadata": {
        "id": "En-5ndIkyMdC",
        "colab_type": "code",
        "colab": {
          "base_uri": "https://localhost:8080/",
          "height": 36
        },
        "outputId": "fdde3a7f-a6c3-41a7-c2b0-a980de27957c"
      },
      "source": [
        "sept.loc[:,'amount'].max()"
      ],
      "execution_count": 73,
      "outputs": [
        {
          "output_type": "execute_result",
          "data": {
            "text/plain": [
              "8835.98"
            ]
          },
          "metadata": {
            "tags": []
          },
          "execution_count": 73
        }
      ]
    },
    {
      "cell_type": "code",
      "metadata": {
        "id": "Ka1KngCfyMwO",
        "colab_type": "code",
        "colab": {
          "base_uri": "https://localhost:8080/",
          "height": 36
        },
        "outputId": "93043f92-70f0-4e86-85df-f3b7ee3a0a4a"
      },
      "source": [
        "sept.loc[:,'amount'].min()"
      ],
      "execution_count": 74,
      "outputs": [
        {
          "output_type": "execute_result",
          "data": {
            "text/plain": [
              "0.1"
            ]
          },
          "metadata": {
            "tags": []
          },
          "execution_count": 74
        }
      ]
    },
    {
      "cell_type": "code",
      "metadata": {
        "id": "EG7ZiLYopDXP",
        "colab_type": "code",
        "colab": {
          "base_uri": "https://localhost:8080/",
          "height": 36
        },
        "outputId": "0686e2b4-b8e8-4915-ed3f-bbe959b34a6a"
      },
      "source": [
        "aug = df[df['monthname']=='August']\n",
        "aug.loc[:,'amount'].mean()"
      ],
      "execution_count": 75,
      "outputs": [
        {
          "output_type": "execute_result",
          "data": {
            "text/plain": [
              "185.12186659903654"
            ]
          },
          "metadata": {
            "tags": []
          },
          "execution_count": 75
        }
      ]
    },
    {
      "cell_type": "code",
      "metadata": {
        "id": "WjfVvCa1yY-w",
        "colab_type": "code",
        "colab": {
          "base_uri": "https://localhost:8080/",
          "height": 36
        },
        "outputId": "774d883b-f881-4e0c-d550-2209a552450c"
      },
      "source": [
        "aug.loc[:,'amount'].max()"
      ],
      "execution_count": 76,
      "outputs": [
        {
          "output_type": "execute_result",
          "data": {
            "text/plain": [
              "8835.98"
            ]
          },
          "metadata": {
            "tags": []
          },
          "execution_count": 76
        }
      ]
    },
    {
      "cell_type": "code",
      "metadata": {
        "id": "FjaeHdJHyZRV",
        "colab_type": "code",
        "colab": {
          "base_uri": "https://localhost:8080/",
          "height": 36
        },
        "outputId": "cc830c7f-5f80-4b30-afaf-a4e0600fe469"
      },
      "source": [
        "aug.loc[:,'amount'].min()"
      ],
      "execution_count": 77,
      "outputs": [
        {
          "output_type": "execute_result",
          "data": {
            "text/plain": [
              "1.52"
            ]
          },
          "metadata": {
            "tags": []
          },
          "execution_count": 77
        }
      ]
    },
    {
      "cell_type": "code",
      "metadata": {
        "id": "hpNts9Gau2g7",
        "colab_type": "code",
        "colab": {
          "base_uri": "https://localhost:8080/",
          "height": 73
        },
        "outputId": "8b0c32ec-fffc-4ce2-dd36-068d5093d22c"
      },
      "source": [
        "df['gender'].value_counts()"
      ],
      "execution_count": 78,
      "outputs": [
        {
          "output_type": "execute_result",
          "data": {
            "text/plain": [
              "M    6285\n",
              "F    5758\n",
              "Name: gender, dtype: int64"
            ]
          },
          "metadata": {
            "tags": []
          },
          "execution_count": 78
        }
      ]
    },
    {
      "cell_type": "code",
      "metadata": {
        "id": "_09TZRDApDQh",
        "colab_type": "code",
        "colab": {
          "base_uri": "https://localhost:8080/",
          "height": 534
        },
        "outputId": "994104a7-930d-4920-cdb8-3c47b77f10bb"
      },
      "source": [
        "plt.figure(figsize=(10,8))\n",
        "sns.countplot(df['gender'])\n",
        "plt.title('MALE VS FEMALE  CUSTOMERS',fontsize=15)"
      ],
      "execution_count": 79,
      "outputs": [
        {
          "output_type": "execute_result",
          "data": {
            "text/plain": [
              "Text(0.5, 1.0, 'MALE VS FEMALE  CUSTOMERS')"
            ]
          },
          "metadata": {
            "tags": []
          },
          "execution_count": 79
        },
        {
          "output_type": "display_data",
          "data": {
            "image/png": "[encoded data removed]",
            "text/plain": [
              "<Figure size 720x576 with 1 Axes>"
            ]
          },
          "metadata": {
            "tags": [],
            "needs_background": "light"
          }
        }
      ]
    },
    {
      "cell_type": "code",
      "metadata": {
        "id": "uARCrS9rpDPX",
        "colab_type": "code",
        "colab": {
          "base_uri": "https://localhost:8080/",
          "height": 92
        },
        "outputId": "036fb13b-76f6-4b13-8791-c5d387e2136d"
      },
      "source": [
        "df['monthname'].value_counts()"
      ],
      "execution_count": 81,
      "outputs": [
        {
          "output_type": "execute_result",
          "data": {
            "text/plain": [
              "October      4087\n",
              "September    4013\n",
              "August       3943\n",
              "Name: monthname, dtype: int64"
            ]
          },
          "metadata": {
            "tags": []
          },
          "execution_count": 81
        }
      ]
    },
    {
      "cell_type": "code",
      "metadata": {
        "id": "NL04hgQIpDK2",
        "colab_type": "code",
        "colab": {
          "base_uri": "https://localhost:8080/",
          "height": 534
        },
        "outputId": "1ef48778-a647-4fc3-f975-0f418ad9fd1f"
      },
      "source": [
        "plt.figure(figsize=(8,8))\n",
        "sns.countplot(df['monthname'])\n",
        "plt.title('TOTAL MONTHLY TRANSACTIONS',fontsize=15)"
      ],
      "execution_count": 82,
      "outputs": [
        {
          "output_type": "execute_result",
          "data": {
            "text/plain": [
              "Text(0.5, 1.0, 'TOTAL MONTHLY TRANSACTIONS')"
            ]
          },
          "metadata": {
            "tags": []
          },
          "execution_count": 82
        },
        {
          "output_type": "display_data",
          "data": {
            "image/png": "[encoded data removed]",
            "text/plain": [
              "<Figure size 576x576 with 1 Axes>"
            ]
          },
          "metadata": {
            "tags": [],
            "needs_background": "light"
          }
        }
      ]
    },
    {
      "cell_type": "code",
      "metadata": {
        "id": "ht5iNwu5pDI4",
        "colab_type": "code",
        "colab": {
          "base_uri": "https://localhost:8080/",
          "height": 484
        },
        "outputId": "602a5c89-9b53-4ee4-ed91-a1f640fdd0fc"
      },
      "source": [
        "plt.figure(figsize=(8,8))\n",
        "explode = (0.1,0.5,0.05)\n",
        "df['monthname'].value_counts().plot.pie(autopct= '%1.1f%%',startangle=60)\n",
        "plt.title('TOTAL MONTHLY TRANSACTIONS',fontsize=15)\n",
        "plt.show()"
      ],
      "execution_count": 86,
      "outputs": [
        {
          "output_type": "display_data",
          "data": {
            "image/png": "[encoded data removed]",
            "text/plain": [
              "<Figure size 576x576 with 1 Axes>"
            ]
          },
          "metadata": {
            "tags": []
          }
        }
      ]
    },
    {
      "cell_type": "code",
      "metadata": {
        "id": "lUFrlmltwvRx",
        "colab_type": "code",
        "colab": {
          "base_uri": "https://localhost:8080/",
          "height": 534
        },
        "outputId": "bf1601f9-4fd8-4910-f3fb-7a264959b5ef"
      },
      "source": [
        "plt.figure(figsize=(10,8))\n",
        "sns.lineplot(x='age',y='balance',data=df)\n",
        "plt.title('AGE GROUPS WITH BALANCE',fontsize=15)"
      ],
      "execution_count": 87,
      "outputs": [
        {
          "output_type": "execute_result",
          "data": {
            "text/plain": [
              "Text(0.5, 1.0, 'AGE GROUPS WITH BALANCE')"
            ]
          },
          "metadata": {
            "tags": []
          },
          "execution_count": 87
        },
        {
          "output_type": "display_data",
          "data": {
            "image/png": "[encoded data removed]",
            "text/plain": [
              "<Figure size 720x576 with 1 Axes>"
            ]
          },
          "metadata": {
            "tags": [],
            "needs_background": "light"
          }
        }
      ]
    },
    {
      "cell_type": "code",
      "metadata": {
        "id": "VXQo0whQzHWU",
        "colab_type": "code",
        "colab": {
          "base_uri": "https://localhost:8080/",
          "height": 534
        },
        "outputId": "7c8fd0b7-d680-4ac0-cd19-6b939057d296"
      },
      "source": [
        "plt.figure(figsize=(10,8))\n",
        "sns.countplot(df['monthname'],hue=df['gender'])\n",
        "plt.title('MONTHTY TRANSACTIONS ON GENDER BASIS',fontsize=15)"
      ],
      "execution_count": 88,
      "outputs": [
        {
          "output_type": "execute_result",
          "data": {
            "text/plain": [
              "Text(0.5, 1.0, 'MONTHTY TRANSACTIONS ON GENDER BASIS')"
            ]
          },
          "metadata": {
            "tags": []
          },
          "execution_count": 88
        },
        {
          "output_type": "display_data",
          "data": {
            "image/png": "[encoded data removed]",
            "text/plain": [
              "<Figure size 720x576 with 1 Axes>"
            ]
          },
          "metadata": {
            "tags": [],
            "needs_background": "light"
          }
        }
      ]
    },
    {
      "cell_type": "code",
      "metadata": {
        "id": "aBmmmAlkzHe3",
        "colab_type": "code",
        "colab": {
          "base_uri": "https://localhost:8080/",
          "height": 167
        },
        "outputId": "5e4aa68e-c97e-4fca-8ad4-9eab5b3e41b6"
      },
      "source": [
        "df['weekday'].value_counts()"
      ],
      "execution_count": 90,
      "outputs": [
        {
          "output_type": "execute_result",
          "data": {
            "text/plain": [
              "Friday       2073\n",
              "Wednesday    2063\n",
              "Thursday     1801\n",
              "Saturday     1709\n",
              "Sunday       1550\n",
              "Tuesday      1487\n",
              "Monday       1360\n",
              "Name: weekday, dtype: int64"
            ]
          },
          "metadata": {
            "tags": []
          },
          "execution_count": 90
        }
      ]
    },
    {
      "cell_type": "code",
      "metadata": {
        "id": "33yoCtVCzHvU",
        "colab_type": "code",
        "colab": {
          "base_uri": "https://localhost:8080/",
          "height": 534
        },
        "outputId": "904799f7-3b32-40da-e331-c95a5ddb07c8"
      },
      "source": [
        "plt.figure(figsize=(10,8))\n",
        "sns.countplot(df['weekday'])\n",
        "plt.title('TRANSACTIONS ON DAILY BASIS',fontsize=15)"
      ],
      "execution_count": 91,
      "outputs": [
        {
          "output_type": "execute_result",
          "data": {
            "text/plain": [
              "Text(0.5, 1.0, 'TRANSACTIONS ON DAILY BASIS')"
            ]
          },
          "metadata": {
            "tags": []
          },
          "execution_count": 91
        },
        {
          "output_type": "display_data",
          "data": {
            "image/png": "[encoded data removed]",
            "text/plain": [
              "<Figure size 720x576 with 1 Axes>"
            ]
          },
          "metadata": {
            "tags": [],
            "needs_background": "light"
          }
        }
      ]
    },
    {
      "cell_type": "code",
      "metadata": {
        "id": "9g_YlAbozH8r",
        "colab_type": "code",
        "colab": {
          "base_uri": "https://localhost:8080/",
          "height": 484
        },
        "outputId": "7ff4f55a-ed06-46c0-c554-97db4d58ab4b"
      },
      "source": [
        "plt.figure(figsize=(8,8))\n",
        "df['weekday'].value_counts().plot.pie(autopct= '%1.1f%%',startangle=60)\n",
        "plt.title('TRANSACTION PER MONTH',fontsize=15)\n",
        "plt.show()"
      ],
      "execution_count": 92,
      "outputs": [
        {
          "output_type": "display_data",
          "data": {
            "image/png": "[encoded data removed]",
            "text/plain": [
              "<Figure size 576x576 with 1 Axes>"
            ]
          },
          "metadata": {
            "tags": []
          }
        }
      ]
    },
    {
      "cell_type": "code",
      "metadata": {
        "id": "AEF1a5eXzIGk",
        "colab_type": "code",
        "colab": {
          "base_uri": "https://localhost:8080/",
          "height": 534
        },
        "outputId": "2a929308-15e7-4397-f35b-5004f33b990b"
      },
      "source": [
        "plt.figure(figsize=(10,8))\n",
        "sns.countplot(df['weekday'],hue=df['gender'])\n",
        "plt.title('DAILY TRANSACTIONS ON GENDER BASIS',fontsize=15)"
      ],
      "execution_count": 93,
      "outputs": [
        {
          "output_type": "execute_result",
          "data": {
            "text/plain": [
              "Text(0.5, 1.0, 'DAILY TRANSACTIONS ON GENDER BASIS')"
            ]
          },
          "metadata": {
            "tags": []
          },
          "execution_count": 93
        },
        {
          "output_type": "display_data",
          "data": {
            "image/png": "[encoded data removed]",
            "text/plain": [
              "<Figure size 720x576 with 1 Axes>"
            ]
          },
          "metadata": {
            "tags": [],
            "needs_background": "light"
          }
        }
      ]
    },
    {
      "cell_type": "code",
      "metadata": {
        "id": "btzOjEE2zIPR",
        "colab_type": "code",
        "colab": {
          "base_uri": "https://localhost:8080/",
          "height": 73
        },
        "outputId": "4c2104b3-4a33-47ec-c1d0-7e16dc9288bd"
      },
      "source": [
        "df['card_present_flag'].value_counts()"
      ],
      "execution_count": 94,
      "outputs": [
        {
          "output_type": "execute_result",
          "data": {
            "text/plain": [
              "1.0    6194\n",
              "0.0    1523\n",
              "Name: card_present_flag, dtype: int64"
            ]
          },
          "metadata": {
            "tags": []
          },
          "execution_count": 94
        }
      ]
    },
    {
      "cell_type": "code",
      "metadata": {
        "id": "tMsCbBz3zILc",
        "colab_type": "code",
        "colab": {
          "base_uri": "https://localhost:8080/",
          "height": 535
        },
        "outputId": "5ef7fda0-e6ab-4a61-dc05-4b0f244606d8"
      },
      "source": [
        "plt.figure(figsize=(10,8))\n",
        "sns.countplot(df['card_present_flag'])\n",
        "plt.title('CARD PAYMENT VS NO CARD PAYMENT',fontsize=15)"
      ],
      "execution_count": 96,
      "outputs": [
        {
          "output_type": "execute_result",
          "data": {
            "text/plain": [
              "Text(0.5, 1.0, 'CARD PAYMENT VS NO CARD PAYMENT')"
            ]
          },
          "metadata": {
            "tags": []
          },
          "execution_count": 96
        },
        {
          "output_type": "display_data",
          "data": {
            "image/png": "[encoded data removed]",
            "text/plain": [
              "<Figure size 720x576 with 1 Axes>"
            ]
          },
          "metadata": {
            "tags": [],
            "needs_background": "light"
          }
        }
      ]
    },
    {
      "cell_type": "code",
      "metadata": {
        "id": "DJpOq4OL24Qc",
        "colab_type": "code",
        "colab": {
          "base_uri": "https://localhost:8080/",
          "height": 73
        },
        "outputId": "f7cda7e6-9a71-48b7-e27c-32d8df5a4f9e"
      },
      "source": [
        "df['movement'].value_counts()"
      ],
      "execution_count": 97,
      "outputs": [
        {
          "output_type": "execute_result",
          "data": {
            "text/plain": [
              "debit     11160\n",
              "credit      883\n",
              "Name: movement, dtype: int64"
            ]
          },
          "metadata": {
            "tags": []
          },
          "execution_count": 97
        }
      ]
    },
    {
      "cell_type": "code",
      "metadata": {
        "id": "O2nq26TezH5O",
        "colab_type": "code",
        "colab": {
          "base_uri": "https://localhost:8080/",
          "height": 484
        },
        "outputId": "bbfd47dd-ad20-4b5d-ec96-72dd7aa7637e"
      },
      "source": [
        "plt.figure(figsize=(8,8))\n",
        "df['movement'].value_counts().plot.pie(autopct= '%1.1f%%',startangle=60)\n",
        "plt.title('TYPE OF MOVEMENT',fontsize=15)\n",
        "plt.show()"
      ],
      "execution_count": 98,
      "outputs": [
        {
          "output_type": "display_data",
          "data": {
            "image/png": "[encoded data removed]",
            "text/plain": [
              "<Figure size 576x576 with 1 Axes>"
            ]
          },
          "metadata": {
            "tags": []
          }
        }
      ]
    },
    {
      "cell_type": "code",
      "metadata": {
        "id": "oPqcfoDjzH2q",
        "colab_type": "code",
        "colab": {
          "base_uri": "https://localhost:8080/",
          "height": 534
        },
        "outputId": "b3b08ba2-ee07-4265-d49f-e08d84de8b04"
      },
      "source": [
        "plt.figure(figsize=(10,8))\n",
        "sns.countplot(df['movement'])\n",
        "plt.title('MODE OF MOVEMENT',fontsize=15)"
      ],
      "execution_count": 99,
      "outputs": [
        {
          "output_type": "execute_result",
          "data": {
            "text/plain": [
              "Text(0.5, 1.0, 'MODE OF MOVEMENT')"
            ]
          },
          "metadata": {
            "tags": []
          },
          "execution_count": 99
        },
        {
          "output_type": "display_data",
          "data": {
            "image/png": "[encoded data removed]",
            "text/plain": [
              "<Figure size 720x576 with 1 Axes>"
            ]
          },
          "metadata": {
            "tags": [],
            "needs_background": "light"
          }
        }
      ]
    },
    {
      "cell_type": "code",
      "metadata": {
        "id": "oMzLW4OvzH0a",
        "colab_type": "code",
        "colab": {
          "base_uri": "https://localhost:8080/",
          "height": 185
        },
        "outputId": "32cf90d7-1d13-4598-c145-3dc1e8fb8739"
      },
      "source": [
        "df['merchant_state'].value_counts()"
      ],
      "execution_count": 100,
      "outputs": [
        {
          "output_type": "execute_result",
          "data": {
            "text/plain": [
              "NSW    2169\n",
              "VIC    2131\n",
              "QLD    1556\n",
              "WA     1100\n",
              "SA      415\n",
              "NT      205\n",
              "ACT      73\n",
              "TAS      68\n",
              "Name: merchant_state, dtype: int64"
            ]
          },
          "metadata": {
            "tags": []
          },
          "execution_count": 100
        }
      ]
    },
    {
      "cell_type": "code",
      "metadata": {
        "id": "jWz4CKSOzHcQ",
        "colab_type": "code",
        "colab": {
          "base_uri": "https://localhost:8080/",
          "height": 535
        },
        "outputId": "6cb0ee34-9550-4d4a-8b46-195b77e5fd57"
      },
      "source": [
        "plt.figure(figsize=(10,8))\n",
        "sns.countplot(df['merchant_state'])\n",
        "plt.title('STATE WISE TRANSACTIONS',fontsize=15)"
      ],
      "execution_count": 101,
      "outputs": [
        {
          "output_type": "execute_result",
          "data": {
            "text/plain": [
              "Text(0.5, 1.0, 'STATE WISE TRANSACTIONS')"
            ]
          },
          "metadata": {
            "tags": []
          },
          "execution_count": 101
        },
        {
          "output_type": "display_data",
          "data": {
            "image/png": "[encoded data removed]",
            "text/plain": [
              "<Figure size 720x576 with 1 Axes>"
            ]
          },
          "metadata": {
            "tags": [],
            "needs_background": "light"
          }
        }
      ]
    },
    {
      "cell_type": "code",
      "metadata": {
        "id": "_Ki_IEnr4yj6",
        "colab_type": "code",
        "colab": {
          "base_uri": "https://localhost:8080/",
          "height": 148
        },
        "outputId": "64cc8af2-b859-48c9-a650-89edf3ea2735"
      },
      "source": [
        "df['txn_description'].value_counts()"
      ],
      "execution_count": 102,
      "outputs": [
        {
          "output_type": "execute_result",
          "data": {
            "text/plain": [
              "SALES-POS     3934\n",
              "POS           3783\n",
              "PAYMENT       2600\n",
              "PAY/SALARY     883\n",
              "INTER BANK     742\n",
              "PHONE BANK     101\n",
              "Name: txn_description, dtype: int64"
            ]
          },
          "metadata": {
            "tags": []
          },
          "execution_count": 102
        }
      ]
    },
    {
      "cell_type": "code",
      "metadata": {
        "id": "TDK0LyuQ4y23",
        "colab_type": "code",
        "colab": {
          "base_uri": "https://localhost:8080/",
          "height": 535
        },
        "outputId": "83145b2d-d99b-4ef8-8969-353cd8b72e31"
      },
      "source": [
        "plt.figure(figsize=(10,8))\n",
        "sns.countplot(df['txn_description'])\n",
        "plt.title(' TRANSACTIONS DESCRIPTION',fontsize=15)"
      ],
      "execution_count": 103,
      "outputs": [
        {
          "output_type": "execute_result",
          "data": {
            "text/plain": [
              "Text(0.5, 1.0, ' TRANSACTIONS DESCRIPTION')"
            ]
          },
          "metadata": {
            "tags": []
          },
          "execution_count": 103
        },
        {
          "output_type": "display_data",
          "data": {
            "image/png": "[encoded data removed]",
            "text/plain": [
              "<Figure size 720x576 with 1 Axes>"
            ]
          },
          "metadata": {
            "tags": [],
            "needs_background": "light"
          }
        }
      ]
    },
    {
      "cell_type": "code",
      "metadata": {
        "id": "7CGaGVjX4y72",
        "colab_type": "code",
        "colab": {
          "base_uri": "https://localhost:8080/",
          "height": 241
        },
        "outputId": "6a654143-0e46-44fc-bff1-41f24c20050c"
      },
      "source": [
        "df['first_name'].value_counts()"
      ],
      "execution_count": 104,
      "outputs": [
        {
          "output_type": "execute_result",
          "data": {
            "text/plain": [
              "Michael      746\n",
              "Diana        578\n",
              "Jessica      408\n",
              "Joseph       391\n",
              "Jeffrey      388\n",
              "            ... \n",
              "Cindy         51\n",
              "Elizabeth     44\n",
              "David         40\n",
              "Andrew        34\n",
              "Jonathan      31\n",
              "Name: first_name, Length: 80, dtype: int64"
            ]
          },
          "metadata": {
            "tags": []
          },
          "execution_count": 104
        }
      ]
    },
    {
      "cell_type": "code",
      "metadata": {
        "id": "PCKFukOU4zK9",
        "colab_type": "code",
        "colab": {
          "base_uri": "https://localhost:8080/",
          "height": 316
        },
        "outputId": "c068dc2e-22a2-48cd-8e53-6d8978d05942"
      },
      "source": [
        "top = df['first_name'].value_counts(sort = True).head(15)\n",
        "top"
      ],
      "execution_count": 106,
      "outputs": [
        {
          "output_type": "execute_result",
          "data": {
            "text/plain": [
              "Michael        746\n",
              "Diana          578\n",
              "Jessica        408\n",
              "Joseph         391\n",
              "Jeffrey        388\n",
              "Richard        364\n",
              "Kimberly       343\n",
              "Tonya          292\n",
              "Susan          282\n",
              "Christopher    263\n",
              "Rhonda         259\n",
              "Ryan           239\n",
              "Tiffany        230\n",
              "Tyler          218\n",
              "Kenneth        214\n",
              "Name: first_name, dtype: int64"
            ]
          },
          "metadata": {
            "tags": []
          },
          "execution_count": 106
        }
      ]
    },
    {
      "cell_type": "code",
      "metadata": {
        "id": "ADvVh9bi4zP0",
        "colab_type": "code",
        "colab": {
          "base_uri": "https://localhost:8080/",
          "height": 677
        },
        "outputId": "5a8e5f75-436b-4275-82d2-88858042ffca"
      },
      "source": [
        "f,ax= plt.subplots(figsize=(10,10))\n",
        "top.plot.barh(color = 'red')\n",
        "ax.set(title='TOP 15 CUSTOMERS',xlabel = 'NO. OF TRANSACTIONS MADE',ylabel = 'NAME OF CUSTOMERS')"
      ],
      "execution_count": 109,
      "outputs": [
        {
          "output_type": "execute_result",
          "data": {
            "text/plain": [
              "[Text(0, 0.5, 'NAME OF CUSTOMERS'),\n",
              " Text(0.5, 0, 'NO. OF TRANSACTIONS MADE'),\n",
              " Text(0.5, 1.0, 'TOP 15 CUSTOMERS')]"
            ]
          },
          "metadata": {
            "tags": []
          },
          "execution_count": 109
        },
        {
          "output_type": "display_data",
          "data": {
            "image/png": "[encoded data removed]",
            "text/plain": [
              "<Figure size 720x720 with 1 Axes>"
            ]
          },
          "metadata": {
            "tags": [],
            "needs_background": "light"
          }
        }
      ]
    },
    {
      "cell_type": "code",
      "metadata": {
        "id": "QMQpY3dN4zTe",
        "colab_type": "code",
        "colab": {}
      },
      "source": [
        "#TIME SERIES ANALYSIS"
      ],
      "execution_count": 110,
      "outputs": []
    },
    {
      "cell_type": "code",
      "metadata": {
        "id": "-g_206Ra4zae",
        "colab_type": "code",
        "colab": {
          "base_uri": "https://localhost:8080/",
          "height": 241
        },
        "outputId": "f86d9c03-1394-45e3-c1f7-0c9c7f2cfec6"
      },
      "source": [
        "df['date'].value_counts(sort=True)"
      ],
      "execution_count": 111,
      "outputs": [
        {
          "output_type": "execute_result",
          "data": {
            "text/plain": [
              "2018-09-28    174\n",
              "2018-08-17    172\n",
              "2018-10-05    168\n",
              "2018-10-17    162\n",
              "2018-09-14    161\n",
              "             ... \n",
              "2018-08-06     99\n",
              "2018-08-20     97\n",
              "2018-10-23     96\n",
              "2018-10-08     95\n",
              "2018-10-30     89\n",
              "Name: date, Length: 91, dtype: int64"
            ]
          },
          "metadata": {
            "tags": []
          },
          "execution_count": 111
        }
      ]
    },
    {
      "cell_type": "code",
      "metadata": {
        "id": "ofg-2UwG4zXP",
        "colab_type": "code",
        "colab": {
          "base_uri": "https://localhost:8080/",
          "height": 618
        },
        "outputId": "066acc96-fb3f-4b1b-cb84-239313e4b949"
      },
      "source": [
        "df['date'].value_counts(sort=True).plot(kind='line',linewidth= 3,linestyle='-',marker ='o',figsize=(20,15))\n",
        "plt.xlabel('DATES')\n",
        "plt.ylabel('FREQUENCY')\n",
        "plt.title('FREQUENCY OF TRANSACTIONS PER DAY',fontsize = 15)\n",
        "plt.legend()\n",
        "plt.grid(True)\n",
        "plt.show()"
      ],
      "execution_count": 113,
      "outputs": [
        {
          "output_type": "display_data",
          "data": {
            "image/png": "[encoded data removed]",
            "text/plain": [
              "<Figure size 1440x1080 with 1 Axes>"
            ]
          },
          "metadata": {
            "tags": [],
            "needs_background": "light"
          }
        }
      ]
    },
    {
      "cell_type": "code",
      "metadata": {
        "id": "UbFc5xnv4zN1",
        "colab_type": "code",
        "colab": {}
      },
      "source": [
        "#PREDICTIVE ANALYSIS"
      ],
      "execution_count": 114,
      "outputs": []
    },
    {
      "cell_type": "code",
      "metadata": {
        "id": "hKgC-2-t4zIJ",
        "colab_type": "code",
        "colab": {}
      },
      "source": [
        "data = df"
      ],
      "execution_count": 115,
      "outputs": []
    },
    {
      "cell_type": "code",
      "metadata": {
        "id": "EorYoF0e4zFv",
        "colab_type": "code",
        "colab": {
          "base_uri": "https://localhost:8080/",
          "height": 148
        },
        "outputId": "646dfe14-69cf-4af8-9fc4-ca9b8299cf7f"
      },
      "source": [
        "data.columns"
      ],
      "execution_count": 117,
      "outputs": [
        {
          "output_type": "execute_result",
          "data": {
            "text/plain": [
              "Index(['status', 'card_present_flag', 'bpay_biller_code', 'account',\n",
              "       'currency', 'long_lat', 'txn_description', 'merchant_id',\n",
              "       'merchant_code', 'first_name', 'balance', 'date', 'gender', 'age',\n",
              "       'merchant_suburb', 'merchant_state', 'extraction', 'amount',\n",
              "       'transaction_id', 'country', 'customer_id', 'merchant_long_lat',\n",
              "       'movement', 'weekday', 'monthname'],\n",
              "      dtype='object')"
            ]
          },
          "metadata": {
            "tags": []
          },
          "execution_count": 117
        }
      ]
    },
    {
      "cell_type": "code",
      "metadata": {
        "id": "z2Hpsdrc4zDj",
        "colab_type": "code",
        "colab": {
          "base_uri": "https://localhost:8080/",
          "height": 503
        },
        "outputId": "31de5785-24a7-436d-843c-d2443fb32399"
      },
      "source": [
        "data.isnull().sum()"
      ],
      "execution_count": 118,
      "outputs": [
        {
          "output_type": "execute_result",
          "data": {
            "text/plain": [
              "status                   0\n",
              "card_present_flag     4326\n",
              "bpay_biller_code     11158\n",
              "account                  0\n",
              "currency                 0\n",
              "long_lat                 0\n",
              "txn_description          0\n",
              "merchant_id           4326\n",
              "merchant_code        11160\n",
              "first_name               0\n",
              "balance                  0\n",
              "date                     0\n",
              "gender                   0\n",
              "age                      0\n",
              "merchant_suburb       4326\n",
              "merchant_state        4326\n",
              "extraction               0\n",
              "amount                   0\n",
              "transaction_id           0\n",
              "country                  0\n",
              "customer_id              0\n",
              "merchant_long_lat     4326\n",
              "movement                 0\n",
              "weekday                  0\n",
              "monthname                0\n",
              "dtype: int64"
            ]
          },
          "metadata": {
            "tags": []
          },
          "execution_count": 118
        }
      ]
    },
    {
      "cell_type": "code",
      "metadata": {
        "id": "0PDopZiV4zBc",
        "colab_type": "code",
        "colab": {
          "base_uri": "https://localhost:8080/",
          "height": 54
        },
        "outputId": "07c1250d-489c-46c2-883e-bba16e24f1fd"
      },
      "source": [
        "data['txn_description'].unique()"
      ],
      "execution_count": 119,
      "outputs": [
        {
          "output_type": "execute_result",
          "data": {
            "text/plain": [
              "array(['POS', 'SALES-POS', 'PAYMENT', 'INTER BANK', 'PAY/SALARY',\n",
              "       'PHONE BANK'], dtype=object)"
            ]
          },
          "metadata": {
            "tags": []
          },
          "execution_count": 119
        }
      ]
    },
    {
      "cell_type": "code",
      "metadata": {
        "id": "FOB-_LSf4y_k",
        "colab_type": "code",
        "colab": {}
      },
      "source": [
        "salarydata= data[data['txn_description']=='PAY/SALARY'].groupby('customer_id').mean()"
      ],
      "execution_count": 122,
      "outputs": []
    },
    {
      "cell_type": "code",
      "metadata": {
        "id": "rX7Bcia7-Edb",
        "colab_type": "code",
        "colab": {
          "base_uri": "https://localhost:8080/",
          "height": 455
        },
        "outputId": "52a7db6d-2432-4826-8979-bf9f4f61658c"
      },
      "source": [
        "salarydata"
      ],
      "execution_count": 123,
      "outputs": [
        {
          "output_type": "execute_result",
          "data": {
            "text/html": [
              "<div>\n",
              "<style scoped>\n",
              "    .dataframe tbody tr th:only-of-type {\n",
              "        vertical-align: middle;\n",
              "    }\n",
              "\n",
              "    .dataframe tbody tr th {\n",
              "        vertical-align: top;\n",
              "    }\n",
              "\n",
              "    .dataframe thead th {\n",
              "        text-align: right;\n",
              "    }\n",
              "</style>\n",
              "<table border=\"1\" class=\"dataframe\">\n",
              "  <thead>\n",
              "    <tr style=\"text-align: right;\">\n",
              "      <th></th>\n",
              "      <th>card_present_flag</th>\n",
              "      <th>merchant_code</th>\n",
              "      <th>balance</th>\n",
              "      <th>age</th>\n",
              "      <th>amount</th>\n",
              "    </tr>\n",
              "    <tr>\n",
              "      <th>customer_id</th>\n",
              "      <th></th>\n",
              "      <th></th>\n",
              "      <th></th>\n",
              "      <th></th>\n",
              "      <th></th>\n",
              "    </tr>\n",
              "  </thead>\n",
              "  <tbody>\n",
              "    <tr>\n",
              "      <th>CUS-1005756958</th>\n",
              "      <td>NaN</td>\n",
              "      <td>0.0</td>\n",
              "      <td>4718.665385</td>\n",
              "      <td>53</td>\n",
              "      <td>970.47</td>\n",
              "    </tr>\n",
              "    <tr>\n",
              "      <th>CUS-1117979751</th>\n",
              "      <td>NaN</td>\n",
              "      <td>0.0</td>\n",
              "      <td>11957.202857</td>\n",
              "      <td>21</td>\n",
              "      <td>3578.65</td>\n",
              "    </tr>\n",
              "    <tr>\n",
              "      <th>CUS-1140341822</th>\n",
              "      <td>NaN</td>\n",
              "      <td>0.0</td>\n",
              "      <td>5841.720000</td>\n",
              "      <td>28</td>\n",
              "      <td>1916.51</td>\n",
              "    </tr>\n",
              "    <tr>\n",
              "      <th>CUS-1147642491</th>\n",
              "      <td>NaN</td>\n",
              "      <td>0.0</td>\n",
              "      <td>8813.467692</td>\n",
              "      <td>34</td>\n",
              "      <td>1711.39</td>\n",
              "    </tr>\n",
              "    <tr>\n",
              "      <th>CUS-1196156254</th>\n",
              "      <td>NaN</td>\n",
              "      <td>0.0</td>\n",
              "      <td>23845.717143</td>\n",
              "      <td>34</td>\n",
              "      <td>3903.73</td>\n",
              "    </tr>\n",
              "    <tr>\n",
              "      <th>...</th>\n",
              "      <td>...</td>\n",
              "      <td>...</td>\n",
              "      <td>...</td>\n",
              "      <td>...</td>\n",
              "      <td>...</td>\n",
              "    </tr>\n",
              "    <tr>\n",
              "      <th>CUS-72755508</th>\n",
              "      <td>NaN</td>\n",
              "      <td>0.0</td>\n",
              "      <td>4558.675833</td>\n",
              "      <td>35</td>\n",
              "      <td>725.32</td>\n",
              "    </tr>\n",
              "    <tr>\n",
              "      <th>CUS-809013380</th>\n",
              "      <td>NaN</td>\n",
              "      <td>0.0</td>\n",
              "      <td>5579.186154</td>\n",
              "      <td>21</td>\n",
              "      <td>1037.07</td>\n",
              "    </tr>\n",
              "    <tr>\n",
              "      <th>CUS-860700529</th>\n",
              "      <td>NaN</td>\n",
              "      <td>0.0</td>\n",
              "      <td>4221.468333</td>\n",
              "      <td>30</td>\n",
              "      <td>1808.62</td>\n",
              "    </tr>\n",
              "    <tr>\n",
              "      <th>CUS-880898248</th>\n",
              "      <td>NaN</td>\n",
              "      <td>0.0</td>\n",
              "      <td>9722.380000</td>\n",
              "      <td>26</td>\n",
              "      <td>1433.98</td>\n",
              "    </tr>\n",
              "    <tr>\n",
              "      <th>CUS-883482547</th>\n",
              "      <td>NaN</td>\n",
              "      <td>0.0</td>\n",
              "      <td>12699.011429</td>\n",
              "      <td>19</td>\n",
              "      <td>3977.46</td>\n",
              "    </tr>\n",
              "  </tbody>\n",
              "</table>\n",
              "<p>100 rows × 5 columns</p>\n",
              "</div>"
            ],
            "text/plain": [
              "                card_present_flag  merchant_code       balance  age   amount\n",
              "customer_id                                                                 \n",
              "CUS-1005756958                NaN            0.0   4718.665385   53   970.47\n",
              "CUS-1117979751                NaN            0.0  11957.202857   21  3578.65\n",
              "CUS-1140341822                NaN            0.0   5841.720000   28  1916.51\n",
              "CUS-1147642491                NaN            0.0   8813.467692   34  1711.39\n",
              "CUS-1196156254                NaN            0.0  23845.717143   34  3903.73\n",
              "...                           ...            ...           ...  ...      ...\n",
              "CUS-72755508                  NaN            0.0   4558.675833   35   725.32\n",
              "CUS-809013380                 NaN            0.0   5579.186154   21  1037.07\n",
              "CUS-860700529                 NaN            0.0   4221.468333   30  1808.62\n",
              "CUS-880898248                 NaN            0.0   9722.380000   26  1433.98\n",
              "CUS-883482547                 NaN            0.0  12699.011429   19  3977.46\n",
              "\n",
              "[100 rows x 5 columns]"
            ]
          },
          "metadata": {
            "tags": []
          },
          "execution_count": 123
        }
      ]
    },
    {
      "cell_type": "code",
      "metadata": {
        "id": "vtCY4pJGDi2q",
        "colab_type": "code",
        "colab": {}
      },
      "source": [
        "salaries = []\n",
        "for customer_id in df[\"customer_id\"]:\n",
        "    salaries.append(int(salarydata.loc[customer_id][\"amount\"]))\n",
        "df[\"annual_salary\"] = salaries"
      ],
      "execution_count": 133,
      "outputs": []
    },
    {
      "cell_type": "code",
      "metadata": {
        "id": "o7UTAMF3DzBb",
        "colab_type": "code",
        "colab": {
          "base_uri": "https://localhost:8080/",
          "height": 237
        },
        "outputId": "31a32355-c2a5-4b6f-8e5a-7b9659563aeb"
      },
      "source": [
        "cus = df.groupby(\"customer_id\").mean()\n",
        "cus.head()"
      ],
      "execution_count": 134,
      "outputs": [
        {
          "output_type": "execute_result",
          "data": {
            "text/html": [
              "<div>\n",
              "<style scoped>\n",
              "    .dataframe tbody tr th:only-of-type {\n",
              "        vertical-align: middle;\n",
              "    }\n",
              "\n",
              "    .dataframe tbody tr th {\n",
              "        vertical-align: top;\n",
              "    }\n",
              "\n",
              "    .dataframe thead th {\n",
              "        text-align: right;\n",
              "    }\n",
              "</style>\n",
              "<table border=\"1\" class=\"dataframe\">\n",
              "  <thead>\n",
              "    <tr style=\"text-align: right;\">\n",
              "      <th></th>\n",
              "      <th>card_present_flag</th>\n",
              "      <th>merchant_code</th>\n",
              "      <th>balance</th>\n",
              "      <th>age</th>\n",
              "      <th>amount</th>\n",
              "      <th>annual_salary</th>\n",
              "    </tr>\n",
              "    <tr>\n",
              "      <th>customer_id</th>\n",
              "      <th></th>\n",
              "      <th></th>\n",
              "      <th></th>\n",
              "      <th></th>\n",
              "      <th></th>\n",
              "      <th></th>\n",
              "    </tr>\n",
              "  </thead>\n",
              "  <tbody>\n",
              "    <tr>\n",
              "      <th>CUS-1005756958</th>\n",
              "      <td>0.812500</td>\n",
              "      <td>0.0</td>\n",
              "      <td>2275.852055</td>\n",
              "      <td>53</td>\n",
              "      <td>222.862603</td>\n",
              "      <td>970</td>\n",
              "    </tr>\n",
              "    <tr>\n",
              "      <th>CUS-1117979751</th>\n",
              "      <td>0.826923</td>\n",
              "      <td>0.0</td>\n",
              "      <td>9829.929000</td>\n",
              "      <td>21</td>\n",
              "      <td>339.843700</td>\n",
              "      <td>3578</td>\n",
              "    </tr>\n",
              "    <tr>\n",
              "      <th>CUS-1140341822</th>\n",
              "      <td>0.815385</td>\n",
              "      <td>0.0</td>\n",
              "      <td>5699.212250</td>\n",
              "      <td>28</td>\n",
              "      <td>212.632500</td>\n",
              "      <td>1916</td>\n",
              "    </tr>\n",
              "    <tr>\n",
              "      <th>CUS-1147642491</th>\n",
              "      <td>0.750000</td>\n",
              "      <td>0.0</td>\n",
              "      <td>9032.841186</td>\n",
              "      <td>34</td>\n",
              "      <td>245.600169</td>\n",
              "      <td>1711</td>\n",
              "    </tr>\n",
              "    <tr>\n",
              "      <th>CUS-1196156254</th>\n",
              "      <td>0.785276</td>\n",
              "      <td>0.0</td>\n",
              "      <td>22272.433755</td>\n",
              "      <td>34</td>\n",
              "      <td>147.145796</td>\n",
              "      <td>3903</td>\n",
              "    </tr>\n",
              "  </tbody>\n",
              "</table>\n",
              "</div>"
            ],
            "text/plain": [
              "                card_present_flag  merchant_code  ...      amount  annual_salary\n",
              "customer_id                                       ...                           \n",
              "CUS-1005756958           0.812500            0.0  ...  222.862603            970\n",
              "CUS-1117979751           0.826923            0.0  ...  339.843700           3578\n",
              "CUS-1140341822           0.815385            0.0  ...  212.632500           1916\n",
              "CUS-1147642491           0.750000            0.0  ...  245.600169           1711\n",
              "CUS-1196156254           0.785276            0.0  ...  147.145796           3903\n",
              "\n",
              "[5 rows x 6 columns]"
            ]
          },
          "metadata": {
            "tags": []
          },
          "execution_count": 134
        }
      ]
    },
    {
      "cell_type": "code",
      "metadata": {
        "id": "kCtDa2c2-Euz",
        "colab_type": "code",
        "colab": {
          "base_uri": "https://localhost:8080/",
          "height": 36
        },
        "outputId": "4fe10385-7188-492a-8937-1500d3f13fad"
      },
      "source": [
        "print(data['age'].corr(data['balance']))"
      ],
      "execution_count": 135,
      "outputs": [
        {
          "output_type": "stream",
          "text": [
            "0.19932925225498474\n"
          ],
          "name": "stdout"
        }
      ]
    },
    {
      "cell_type": "code",
      "metadata": {
        "id": "jNZ1ut2L-FMC",
        "colab_type": "code",
        "colab": {
          "base_uri": "https://localhost:8080/",
          "height": 298
        },
        "outputId": "69e363a2-4a7b-4f19-c096-76c1c1becfd5"
      },
      "source": [
        "sns.scatterplot(x=data.age,y = data.balance)"
      ],
      "execution_count": 136,
      "outputs": [
        {
          "output_type": "execute_result",
          "data": {
            "text/plain": [
              "<matplotlib.axes._subplots.AxesSubplot at 0x7efeb860e438>"
            ]
          },
          "metadata": {
            "tags": []
          },
          "execution_count": 136
        },
        {
          "output_type": "display_data",
          "data": {
            "image/png": "[encoded data removed]",
            "text/plain": [
              "<Figure size 432x288 with 1 Axes>"
            ]
          },
          "metadata": {
            "tags": [],
            "needs_background": "light"
          }
        }
      ]
    },
    {
      "cell_type": "code",
      "metadata": {
        "id": "QBfxTRqsFt8J",
        "colab_type": "code",
        "colab": {
          "base_uri": "https://localhost:8080/",
          "height": 36
        },
        "outputId": "fe1b006c-4ae7-44de-c2eb-7a8fa08e3b2f"
      },
      "source": [
        "salarydata.columns"
      ],
      "execution_count": 142,
      "outputs": [
        {
          "output_type": "execute_result",
          "data": {
            "text/plain": [
              "Index(['card_present_flag', 'merchant_code', 'balance', 'age', 'amount'], dtype='object')"
            ]
          },
          "metadata": {
            "tags": []
          },
          "execution_count": 142
        }
      ]
    },
    {
      "cell_type": "code",
      "metadata": {
        "id": "3SdLoPA7FuXv",
        "colab_type": "code",
        "colab": {}
      },
      "source": [
        "j=[]\n",
        "for customer_id in df['customer_id']:\n",
        "  j.append(int(salarydata.loc[customer_id]['amount'].mean()))\n",
        "df['annual_salary'] =j"
      ],
      "execution_count": 145,
      "outputs": []
    },
    {
      "cell_type": "code",
      "metadata": {
        "id": "OlVJ5IvMFuj7",
        "colab_type": "code",
        "colab": {
          "base_uri": "https://localhost:8080/",
          "height": 634
        },
        "outputId": "e2025716-720e-448a-ece4-ae2cf3b4878f"
      },
      "source": [
        "df"
      ],
      "execution_count": 146,
      "outputs": [
        {
          "output_type": "execute_result",
          "data": {
            "text/html": [
              "<div>\n",
              "<style scoped>\n",
              "    .dataframe tbody tr th:only-of-type {\n",
              "        vertical-align: middle;\n",
              "    }\n",
              "\n",
              "    .dataframe tbody tr th {\n",
              "        vertical-align: top;\n",
              "    }\n",
              "\n",
              "    .dataframe thead th {\n",
              "        text-align: right;\n",
              "    }\n",
              "</style>\n",
              "<table border=\"1\" class=\"dataframe\">\n",
              "  <thead>\n",
              "    <tr style=\"text-align: right;\">\n",
              "      <th></th>\n",
              "      <th>status</th>\n",
              "      <th>card_present_flag</th>\n",
              "      <th>bpay_biller_code</th>\n",
              "      <th>account</th>\n",
              "      <th>currency</th>\n",
              "      <th>long_lat</th>\n",
              "      <th>txn_description</th>\n",
              "      <th>merchant_id</th>\n",
              "      <th>merchant_code</th>\n",
              "      <th>first_name</th>\n",
              "      <th>balance</th>\n",
              "      <th>date</th>\n",
              "      <th>gender</th>\n",
              "      <th>age</th>\n",
              "      <th>merchant_suburb</th>\n",
              "      <th>merchant_state</th>\n",
              "      <th>extraction</th>\n",
              "      <th>amount</th>\n",
              "      <th>transaction_id</th>\n",
              "      <th>country</th>\n",
              "      <th>customer_id</th>\n",
              "      <th>merchant_long_lat</th>\n",
              "      <th>movement</th>\n",
              "      <th>weekday</th>\n",
              "      <th>monthname</th>\n",
              "      <th>annual_salary</th>\n",
              "    </tr>\n",
              "  </thead>\n",
              "  <tbody>\n",
              "    <tr>\n",
              "      <th>0</th>\n",
              "      <td>authorized</td>\n",
              "      <td>1.0</td>\n",
              "      <td>NaN</td>\n",
              "      <td>ACC-1598451071</td>\n",
              "      <td>AUD</td>\n",
              "      <td>153.41 -27.95</td>\n",
              "      <td>POS</td>\n",
              "      <td>81c48296-73be-44a7-befa-d053f48ce7cd</td>\n",
              "      <td>NaN</td>\n",
              "      <td>Diana</td>\n",
              "      <td>35.39</td>\n",
              "      <td>2018-08-01</td>\n",
              "      <td>F</td>\n",
              "      <td>26</td>\n",
              "      <td>Ashmore</td>\n",
              "      <td>QLD</td>\n",
              "      <td>2018-08-01T01:01:15.000+0000</td>\n",
              "      <td>16.25</td>\n",
              "      <td>a623070bfead4541a6b0fff8a09e706c</td>\n",
              "      <td>Australia</td>\n",
              "      <td>CUS-2487424745</td>\n",
              "      <td>153.38 -27.99</td>\n",
              "      <td>debit</td>\n",
              "      <td>Wednesday</td>\n",
              "      <td>August</td>\n",
              "      <td>1013</td>\n",
              "    </tr>\n",
              "    <tr>\n",
              "      <th>1</th>\n",
              "      <td>authorized</td>\n",
              "      <td>0.0</td>\n",
              "      <td>NaN</td>\n",
              "      <td>ACC-1598451071</td>\n",
              "      <td>AUD</td>\n",
              "      <td>153.41 -27.95</td>\n",
              "      <td>SALES-POS</td>\n",
              "      <td>830a451c-316e-4a6a-bf25-e37caedca49e</td>\n",
              "      <td>NaN</td>\n",
              "      <td>Diana</td>\n",
              "      <td>21.20</td>\n",
              "      <td>2018-08-01</td>\n",
              "      <td>F</td>\n",
              "      <td>26</td>\n",
              "      <td>Sydney</td>\n",
              "      <td>NSW</td>\n",
              "      <td>2018-08-01T01:13:45.000+0000</td>\n",
              "      <td>14.19</td>\n",
              "      <td>13270a2a902145da9db4c951e04b51b9</td>\n",
              "      <td>Australia</td>\n",
              "      <td>CUS-2487424745</td>\n",
              "      <td>151.21 -33.87</td>\n",
              "      <td>debit</td>\n",
              "      <td>Wednesday</td>\n",
              "      <td>August</td>\n",
              "      <td>1013</td>\n",
              "    </tr>\n",
              "    <tr>\n",
              "      <th>2</th>\n",
              "      <td>authorized</td>\n",
              "      <td>1.0</td>\n",
              "      <td>NaN</td>\n",
              "      <td>ACC-1222300524</td>\n",
              "      <td>AUD</td>\n",
              "      <td>151.23 -33.94</td>\n",
              "      <td>POS</td>\n",
              "      <td>835c231d-8cdf-4e96-859d-e9d571760cf0</td>\n",
              "      <td>NaN</td>\n",
              "      <td>Michael</td>\n",
              "      <td>5.71</td>\n",
              "      <td>2018-08-01</td>\n",
              "      <td>M</td>\n",
              "      <td>38</td>\n",
              "      <td>Sydney</td>\n",
              "      <td>NSW</td>\n",
              "      <td>2018-08-01T01:26:15.000+0000</td>\n",
              "      <td>6.42</td>\n",
              "      <td>feb79e7ecd7048a5a36ec889d1a94270</td>\n",
              "      <td>Australia</td>\n",
              "      <td>CUS-2142601169</td>\n",
              "      <td>151.21 -33.87</td>\n",
              "      <td>debit</td>\n",
              "      <td>Wednesday</td>\n",
              "      <td>August</td>\n",
              "      <td>1002</td>\n",
              "    </tr>\n",
              "    <tr>\n",
              "      <th>3</th>\n",
              "      <td>authorized</td>\n",
              "      <td>1.0</td>\n",
              "      <td>NaN</td>\n",
              "      <td>ACC-1037050564</td>\n",
              "      <td>AUD</td>\n",
              "      <td>153.10 -27.66</td>\n",
              "      <td>SALES-POS</td>\n",
              "      <td>48514682-c78a-4a88-b0da-2d6302e64673</td>\n",
              "      <td>NaN</td>\n",
              "      <td>Rhonda</td>\n",
              "      <td>2117.22</td>\n",
              "      <td>2018-08-01</td>\n",
              "      <td>F</td>\n",
              "      <td>40</td>\n",
              "      <td>Buderim</td>\n",
              "      <td>QLD</td>\n",
              "      <td>2018-08-01T01:38:45.000+0000</td>\n",
              "      <td>40.90</td>\n",
              "      <td>2698170da3704fd981b15e64a006079e</td>\n",
              "      <td>Australia</td>\n",
              "      <td>CUS-1614226872</td>\n",
              "      <td>153.05 -26.68</td>\n",
              "      <td>debit</td>\n",
              "      <td>Wednesday</td>\n",
              "      <td>August</td>\n",
              "      <td>892</td>\n",
              "    </tr>\n",
              "    <tr>\n",
              "      <th>4</th>\n",
              "      <td>authorized</td>\n",
              "      <td>1.0</td>\n",
              "      <td>NaN</td>\n",
              "      <td>ACC-1598451071</td>\n",
              "      <td>AUD</td>\n",
              "      <td>153.41 -27.95</td>\n",
              "      <td>SALES-POS</td>\n",
              "      <td>b4e02c10-0852-4273-b8fd-7b3395e32eb0</td>\n",
              "      <td>NaN</td>\n",
              "      <td>Diana</td>\n",
              "      <td>17.95</td>\n",
              "      <td>2018-08-01</td>\n",
              "      <td>F</td>\n",
              "      <td>26</td>\n",
              "      <td>Mermaid Beach</td>\n",
              "      <td>QLD</td>\n",
              "      <td>2018-08-01T01:51:15.000+0000</td>\n",
              "      <td>3.25</td>\n",
              "      <td>329adf79878c4cf0aeb4188b4691c266</td>\n",
              "      <td>Australia</td>\n",
              "      <td>CUS-2487424745</td>\n",
              "      <td>153.44 -28.06</td>\n",
              "      <td>debit</td>\n",
              "      <td>Wednesday</td>\n",
              "      <td>August</td>\n",
              "      <td>1013</td>\n",
              "    </tr>\n",
              "    <tr>\n",
              "      <th>...</th>\n",
              "      <td>...</td>\n",
              "      <td>...</td>\n",
              "      <td>...</td>\n",
              "      <td>...</td>\n",
              "      <td>...</td>\n",
              "      <td>...</td>\n",
              "      <td>...</td>\n",
              "      <td>...</td>\n",
              "      <td>...</td>\n",
              "      <td>...</td>\n",
              "      <td>...</td>\n",
              "      <td>...</td>\n",
              "      <td>...</td>\n",
              "      <td>...</td>\n",
              "      <td>...</td>\n",
              "      <td>...</td>\n",
              "      <td>...</td>\n",
              "      <td>...</td>\n",
              "      <td>...</td>\n",
              "      <td>...</td>\n",
              "      <td>...</td>\n",
              "      <td>...</td>\n",
              "      <td>...</td>\n",
              "      <td>...</td>\n",
              "      <td>...</td>\n",
              "      <td>...</td>\n",
              "    </tr>\n",
              "    <tr>\n",
              "      <th>12038</th>\n",
              "      <td>authorized</td>\n",
              "      <td>0.0</td>\n",
              "      <td>NaN</td>\n",
              "      <td>ACC-3021093232</td>\n",
              "      <td>AUD</td>\n",
              "      <td>149.83 -29.47</td>\n",
              "      <td>POS</td>\n",
              "      <td>32aa73dc-b7c2-4161-b14d-6271b96ce792</td>\n",
              "      <td>NaN</td>\n",
              "      <td>Melissa</td>\n",
              "      <td>14054.14</td>\n",
              "      <td>2018-10-31</td>\n",
              "      <td>F</td>\n",
              "      <td>30</td>\n",
              "      <td>Ringwood</td>\n",
              "      <td>VIC</td>\n",
              "      <td>2018-10-31T23:09:06.000+0000</td>\n",
              "      <td>9.79</td>\n",
              "      <td>f2e3e695c2ee4c50a4c8747f852cbe2e</td>\n",
              "      <td>Australia</td>\n",
              "      <td>CUS-55310383</td>\n",
              "      <td>145.23 -37.81</td>\n",
              "      <td>debit</td>\n",
              "      <td>Wednesday</td>\n",
              "      <td>October</td>\n",
              "      <td>1636</td>\n",
              "    </tr>\n",
              "    <tr>\n",
              "      <th>12039</th>\n",
              "      <td>authorized</td>\n",
              "      <td>1.0</td>\n",
              "      <td>NaN</td>\n",
              "      <td>ACC-1608363396</td>\n",
              "      <td>AUD</td>\n",
              "      <td>151.22 -33.87</td>\n",
              "      <td>SALES-POS</td>\n",
              "      <td>296a0500-8552-48ac-ac81-ec37065b568e</td>\n",
              "      <td>NaN</td>\n",
              "      <td>Robert</td>\n",
              "      <td>9137.79</td>\n",
              "      <td>2018-10-31</td>\n",
              "      <td>M</td>\n",
              "      <td>20</td>\n",
              "      <td>Casula</td>\n",
              "      <td>NSW</td>\n",
              "      <td>2018-10-31T23:21:46.000+0000</td>\n",
              "      <td>63.87</td>\n",
              "      <td>56e147e5485f4683b9076fcaaed76640</td>\n",
              "      <td>Australia</td>\n",
              "      <td>CUS-2688605418</td>\n",
              "      <td>150.88 -33.96</td>\n",
              "      <td>debit</td>\n",
              "      <td>Wednesday</td>\n",
              "      <td>October</td>\n",
              "      <td>2320</td>\n",
              "    </tr>\n",
              "    <tr>\n",
              "      <th>12040</th>\n",
              "      <td>authorized</td>\n",
              "      <td>1.0</td>\n",
              "      <td>NaN</td>\n",
              "      <td>ACC-3827517394</td>\n",
              "      <td>AUD</td>\n",
              "      <td>151.12 -33.89</td>\n",
              "      <td>POS</td>\n",
              "      <td>e5975ab4-08f7-4725-a369-24cc0e35ed6e</td>\n",
              "      <td>NaN</td>\n",
              "      <td>Craig</td>\n",
              "      <td>45394.57</td>\n",
              "      <td>2018-10-31</td>\n",
              "      <td>M</td>\n",
              "      <td>28</td>\n",
              "      <td>Kings Park</td>\n",
              "      <td>NSW</td>\n",
              "      <td>2018-10-31T23:34:25.000+0000</td>\n",
              "      <td>43.96</td>\n",
              "      <td>2fdd4681827343f6af2e6519644a684a</td>\n",
              "      <td>Australia</td>\n",
              "      <td>CUS-2663907001</td>\n",
              "      <td>150.92 -33.74</td>\n",
              "      <td>debit</td>\n",
              "      <td>Wednesday</td>\n",
              "      <td>October</td>\n",
              "      <td>4054</td>\n",
              "    </tr>\n",
              "    <tr>\n",
              "      <th>12041</th>\n",
              "      <td>authorized</td>\n",
              "      <td>1.0</td>\n",
              "      <td>NaN</td>\n",
              "      <td>ACC-2920611728</td>\n",
              "      <td>AUD</td>\n",
              "      <td>144.96 -37.76</td>\n",
              "      <td>SALES-POS</td>\n",
              "      <td>af49051a-591d-4b08-bd3c-27730b70ed37</td>\n",
              "      <td>NaN</td>\n",
              "      <td>Tyler</td>\n",
              "      <td>11350.67</td>\n",
              "      <td>2018-10-31</td>\n",
              "      <td>M</td>\n",
              "      <td>69</td>\n",
              "      <td>Oakleigh</td>\n",
              "      <td>VIC</td>\n",
              "      <td>2018-10-31T23:47:05.000+0000</td>\n",
              "      <td>30.77</td>\n",
              "      <td>74aa9cd7e4af4c6d9cd7dbd28e9aedc9</td>\n",
              "      <td>Australia</td>\n",
              "      <td>CUS-1388323263</td>\n",
              "      <td>145.09 -37.91</td>\n",
              "      <td>debit</td>\n",
              "      <td>Wednesday</td>\n",
              "      <td>October</td>\n",
              "      <td>1043</td>\n",
              "    </tr>\n",
              "    <tr>\n",
              "      <th>12042</th>\n",
              "      <td>authorized</td>\n",
              "      <td>1.0</td>\n",
              "      <td>NaN</td>\n",
              "      <td>ACC-1443681913</td>\n",
              "      <td>AUD</td>\n",
              "      <td>150.92 -33.77</td>\n",
              "      <td>SALES-POS</td>\n",
              "      <td>f31f4b14-2040-40ec-a120-b141bb274cbd</td>\n",
              "      <td>NaN</td>\n",
              "      <td>Ryan</td>\n",
              "      <td>5517.91</td>\n",
              "      <td>2018-10-31</td>\n",
              "      <td>M</td>\n",
              "      <td>31</td>\n",
              "      <td>Mascot</td>\n",
              "      <td>NSW</td>\n",
              "      <td>2018-10-31T23:59:44.000+0000</td>\n",
              "      <td>22.36</td>\n",
              "      <td>6d5218e04e8040b9996850ce11a19426</td>\n",
              "      <td>Australia</td>\n",
              "      <td>CUS-3129499595</td>\n",
              "      <td>151.19 -33.93</td>\n",
              "      <td>debit</td>\n",
              "      <td>Wednesday</td>\n",
              "      <td>October</td>\n",
              "      <td>996</td>\n",
              "    </tr>\n",
              "  </tbody>\n",
              "</table>\n",
              "<p>12043 rows × 26 columns</p>\n",
              "</div>"
            ],
            "text/plain": [
              "           status  card_present_flag  ... monthname annual_salary\n",
              "0      authorized                1.0  ...    August          1013\n",
              "1      authorized                0.0  ...    August          1013\n",
              "2      authorized                1.0  ...    August          1002\n",
              "3      authorized                1.0  ...    August           892\n",
              "4      authorized                1.0  ...    August          1013\n",
              "...           ...                ...  ...       ...           ...\n",
              "12038  authorized                0.0  ...   October          1636\n",
              "12039  authorized                1.0  ...   October          2320\n",
              "12040  authorized                1.0  ...   October          4054\n",
              "12041  authorized                1.0  ...   October          1043\n",
              "12042  authorized                1.0  ...   October           996\n",
              "\n",
              "[12043 rows x 26 columns]"
            ]
          },
          "metadata": {
            "tags": []
          },
          "execution_count": 146
        }
      ]
    },
    {
      "cell_type": "code",
      "metadata": {
        "id": "i41H_g-fFutS",
        "colab_type": "code",
        "colab": {}
      },
      "source": [
        "predsalary = df[df['txn_description']=='PAY/SALARY']"
      ],
      "execution_count": 148,
      "outputs": []
    },
    {
      "cell_type": "code",
      "metadata": {
        "id": "vM3Ng1XVFuzO",
        "colab_type": "code",
        "colab": {
          "base_uri": "https://localhost:8080/",
          "height": 617
        },
        "outputId": "e6ea035a-1250-49c8-9f1e-a0ec33ce90e5"
      },
      "source": [
        "predsalary"
      ],
      "execution_count": 149,
      "outputs": [
        {
          "output_type": "execute_result",
          "data": {
            "text/html": [
              "<div>\n",
              "<style scoped>\n",
              "    .dataframe tbody tr th:only-of-type {\n",
              "        vertical-align: middle;\n",
              "    }\n",
              "\n",
              "    .dataframe tbody tr th {\n",
              "        vertical-align: top;\n",
              "    }\n",
              "\n",
              "    .dataframe thead th {\n",
              "        text-align: right;\n",
              "    }\n",
              "</style>\n",
              "<table border=\"1\" class=\"dataframe\">\n",
              "  <thead>\n",
              "    <tr style=\"text-align: right;\">\n",
              "      <th></th>\n",
              "      <th>status</th>\n",
              "      <th>card_present_flag</th>\n",
              "      <th>bpay_biller_code</th>\n",
              "      <th>account</th>\n",
              "      <th>currency</th>\n",
              "      <th>long_lat</th>\n",
              "      <th>txn_description</th>\n",
              "      <th>merchant_id</th>\n",
              "      <th>merchant_code</th>\n",
              "      <th>first_name</th>\n",
              "      <th>balance</th>\n",
              "      <th>date</th>\n",
              "      <th>gender</th>\n",
              "      <th>age</th>\n",
              "      <th>merchant_suburb</th>\n",
              "      <th>merchant_state</th>\n",
              "      <th>extraction</th>\n",
              "      <th>amount</th>\n",
              "      <th>transaction_id</th>\n",
              "      <th>country</th>\n",
              "      <th>customer_id</th>\n",
              "      <th>merchant_long_lat</th>\n",
              "      <th>movement</th>\n",
              "      <th>weekday</th>\n",
              "      <th>monthname</th>\n",
              "      <th>annual_salary</th>\n",
              "    </tr>\n",
              "  </thead>\n",
              "  <tbody>\n",
              "    <tr>\n",
              "      <th>50</th>\n",
              "      <td>posted</td>\n",
              "      <td>NaN</td>\n",
              "      <td>0</td>\n",
              "      <td>ACC-588564840</td>\n",
              "      <td>AUD</td>\n",
              "      <td>151.27 -33.76</td>\n",
              "      <td>PAY/SALARY</td>\n",
              "      <td>NaN</td>\n",
              "      <td>0.0</td>\n",
              "      <td>Isaiah</td>\n",
              "      <td>8342.11</td>\n",
              "      <td>2018-08-01</td>\n",
              "      <td>M</td>\n",
              "      <td>23</td>\n",
              "      <td>NaN</td>\n",
              "      <td>NaN</td>\n",
              "      <td>2018-08-01T11:00:00.000+0000</td>\n",
              "      <td>3903.95</td>\n",
              "      <td>9ca281650e5d482d9e53f85e959baa66</td>\n",
              "      <td>Australia</td>\n",
              "      <td>CUS-1462656821</td>\n",
              "      <td>NaN</td>\n",
              "      <td>credit</td>\n",
              "      <td>Wednesday</td>\n",
              "      <td>August</td>\n",
              "      <td>3903</td>\n",
              "    </tr>\n",
              "    <tr>\n",
              "      <th>61</th>\n",
              "      <td>posted</td>\n",
              "      <td>NaN</td>\n",
              "      <td>0</td>\n",
              "      <td>ACC-1650504218</td>\n",
              "      <td>AUD</td>\n",
              "      <td>145.01 -37.93</td>\n",
              "      <td>PAY/SALARY</td>\n",
              "      <td>NaN</td>\n",
              "      <td>0.0</td>\n",
              "      <td>Marissa</td>\n",
              "      <td>2040.58</td>\n",
              "      <td>2018-08-01</td>\n",
              "      <td>F</td>\n",
              "      <td>23</td>\n",
              "      <td>NaN</td>\n",
              "      <td>NaN</td>\n",
              "      <td>2018-08-01T12:00:00.000+0000</td>\n",
              "      <td>1626.48</td>\n",
              "      <td>1822eb0e1bbe4c9e95ebbb0fa2cc4323</td>\n",
              "      <td>Australia</td>\n",
              "      <td>CUS-2500783281</td>\n",
              "      <td>NaN</td>\n",
              "      <td>credit</td>\n",
              "      <td>Wednesday</td>\n",
              "      <td>August</td>\n",
              "      <td>1626</td>\n",
              "    </tr>\n",
              "    <tr>\n",
              "      <th>64</th>\n",
              "      <td>posted</td>\n",
              "      <td>NaN</td>\n",
              "      <td>0</td>\n",
              "      <td>ACC-3326339947</td>\n",
              "      <td>AUD</td>\n",
              "      <td>151.18 -33.80</td>\n",
              "      <td>PAY/SALARY</td>\n",
              "      <td>NaN</td>\n",
              "      <td>0.0</td>\n",
              "      <td>Eric</td>\n",
              "      <td>3158.51</td>\n",
              "      <td>2018-08-01</td>\n",
              "      <td>M</td>\n",
              "      <td>22</td>\n",
              "      <td>NaN</td>\n",
              "      <td>NaN</td>\n",
              "      <td>2018-08-01T12:00:00.000+0000</td>\n",
              "      <td>983.36</td>\n",
              "      <td>bd62b1799a454cedbbb56364f7c40cbf</td>\n",
              "      <td>Australia</td>\n",
              "      <td>CUS-326006476</td>\n",
              "      <td>NaN</td>\n",
              "      <td>credit</td>\n",
              "      <td>Wednesday</td>\n",
              "      <td>August</td>\n",
              "      <td>983</td>\n",
              "    </tr>\n",
              "    <tr>\n",
              "      <th>68</th>\n",
              "      <td>posted</td>\n",
              "      <td>NaN</td>\n",
              "      <td>0</td>\n",
              "      <td>ACC-3541460373</td>\n",
              "      <td>AUD</td>\n",
              "      <td>145.00 -37.83</td>\n",
              "      <td>PAY/SALARY</td>\n",
              "      <td>NaN</td>\n",
              "      <td>0.0</td>\n",
              "      <td>Jeffrey</td>\n",
              "      <td>2517.66</td>\n",
              "      <td>2018-08-01</td>\n",
              "      <td>M</td>\n",
              "      <td>24</td>\n",
              "      <td>NaN</td>\n",
              "      <td>NaN</td>\n",
              "      <td>2018-08-01T13:00:00.000+0000</td>\n",
              "      <td>1408.08</td>\n",
              "      <td>0d95c7c932bb48e5b44c2637bdd3efe9</td>\n",
              "      <td>Australia</td>\n",
              "      <td>CUS-1433879684</td>\n",
              "      <td>NaN</td>\n",
              "      <td>credit</td>\n",
              "      <td>Wednesday</td>\n",
              "      <td>August</td>\n",
              "      <td>1408</td>\n",
              "    </tr>\n",
              "    <tr>\n",
              "      <th>70</th>\n",
              "      <td>posted</td>\n",
              "      <td>NaN</td>\n",
              "      <td>0</td>\n",
              "      <td>ACC-2776252858</td>\n",
              "      <td>AUD</td>\n",
              "      <td>144.95 -37.76</td>\n",
              "      <td>PAY/SALARY</td>\n",
              "      <td>NaN</td>\n",
              "      <td>0.0</td>\n",
              "      <td>Kristin</td>\n",
              "      <td>2271.79</td>\n",
              "      <td>2018-08-01</td>\n",
              "      <td>F</td>\n",
              "      <td>43</td>\n",
              "      <td>NaN</td>\n",
              "      <td>NaN</td>\n",
              "      <td>2018-08-01T13:00:00.000+0000</td>\n",
              "      <td>1068.04</td>\n",
              "      <td>f50ccf1195214d14a0acbfcb5a265193</td>\n",
              "      <td>Australia</td>\n",
              "      <td>CUS-4123612273</td>\n",
              "      <td>NaN</td>\n",
              "      <td>credit</td>\n",
              "      <td>Wednesday</td>\n",
              "      <td>August</td>\n",
              "      <td>1068</td>\n",
              "    </tr>\n",
              "    <tr>\n",
              "      <th>...</th>\n",
              "      <td>...</td>\n",
              "      <td>...</td>\n",
              "      <td>...</td>\n",
              "      <td>...</td>\n",
              "      <td>...</td>\n",
              "      <td>...</td>\n",
              "      <td>...</td>\n",
              "      <td>...</td>\n",
              "      <td>...</td>\n",
              "      <td>...</td>\n",
              "      <td>...</td>\n",
              "      <td>...</td>\n",
              "      <td>...</td>\n",
              "      <td>...</td>\n",
              "      <td>...</td>\n",
              "      <td>...</td>\n",
              "      <td>...</td>\n",
              "      <td>...</td>\n",
              "      <td>...</td>\n",
              "      <td>...</td>\n",
              "      <td>...</td>\n",
              "      <td>...</td>\n",
              "      <td>...</td>\n",
              "      <td>...</td>\n",
              "      <td>...</td>\n",
              "      <td>...</td>\n",
              "    </tr>\n",
              "    <tr>\n",
              "      <th>11995</th>\n",
              "      <td>posted</td>\n",
              "      <td>NaN</td>\n",
              "      <td>0</td>\n",
              "      <td>ACC-1973887809</td>\n",
              "      <td>AUD</td>\n",
              "      <td>115.78 -31.90</td>\n",
              "      <td>PAY/SALARY</td>\n",
              "      <td>NaN</td>\n",
              "      <td>0.0</td>\n",
              "      <td>Antonio</td>\n",
              "      <td>9378.51</td>\n",
              "      <td>2018-10-31</td>\n",
              "      <td>M</td>\n",
              "      <td>26</td>\n",
              "      <td>NaN</td>\n",
              "      <td>NaN</td>\n",
              "      <td>2018-10-31T16:00:00.000+0000</td>\n",
              "      <td>1098.91</td>\n",
              "      <td>0e6cffb4401043c891ab7a50ec594208</td>\n",
              "      <td>Australia</td>\n",
              "      <td>CUS-1646621553</td>\n",
              "      <td>NaN</td>\n",
              "      <td>credit</td>\n",
              "      <td>Wednesday</td>\n",
              "      <td>October</td>\n",
              "      <td>1098</td>\n",
              "    </tr>\n",
              "    <tr>\n",
              "      <th>12000</th>\n",
              "      <td>posted</td>\n",
              "      <td>NaN</td>\n",
              "      <td>0</td>\n",
              "      <td>ACC-819621312</td>\n",
              "      <td>AUD</td>\n",
              "      <td>145.04 -37.85</td>\n",
              "      <td>PAY/SALARY</td>\n",
              "      <td>NaN</td>\n",
              "      <td>0.0</td>\n",
              "      <td>Michele</td>\n",
              "      <td>3440.01</td>\n",
              "      <td>2018-10-31</td>\n",
              "      <td>F</td>\n",
              "      <td>30</td>\n",
              "      <td>NaN</td>\n",
              "      <td>NaN</td>\n",
              "      <td>2018-10-31T17:00:00.000+0000</td>\n",
              "      <td>1158.15</td>\n",
              "      <td>ad13e06fffba4771b3c994f9147e68c0</td>\n",
              "      <td>Australia</td>\n",
              "      <td>CUS-1271030853</td>\n",
              "      <td>NaN</td>\n",
              "      <td>credit</td>\n",
              "      <td>Wednesday</td>\n",
              "      <td>October</td>\n",
              "      <td>1158</td>\n",
              "    </tr>\n",
              "    <tr>\n",
              "      <th>12001</th>\n",
              "      <td>posted</td>\n",
              "      <td>NaN</td>\n",
              "      <td>0</td>\n",
              "      <td>ACC-2920611728</td>\n",
              "      <td>AUD</td>\n",
              "      <td>144.96 -37.76</td>\n",
              "      <td>PAY/SALARY</td>\n",
              "      <td>NaN</td>\n",
              "      <td>0.0</td>\n",
              "      <td>Tyler</td>\n",
              "      <td>11381.44</td>\n",
              "      <td>2018-10-31</td>\n",
              "      <td>M</td>\n",
              "      <td>69</td>\n",
              "      <td>NaN</td>\n",
              "      <td>NaN</td>\n",
              "      <td>2018-10-31T17:00:00.000+0000</td>\n",
              "      <td>1043.12</td>\n",
              "      <td>14a1604e6ead4b54b65d7a28ec546a69</td>\n",
              "      <td>Australia</td>\n",
              "      <td>CUS-1388323263</td>\n",
              "      <td>NaN</td>\n",
              "      <td>credit</td>\n",
              "      <td>Wednesday</td>\n",
              "      <td>October</td>\n",
              "      <td>1043</td>\n",
              "    </tr>\n",
              "    <tr>\n",
              "      <th>12003</th>\n",
              "      <td>posted</td>\n",
              "      <td>NaN</td>\n",
              "      <td>0</td>\n",
              "      <td>ACC-1799207998</td>\n",
              "      <td>AUD</td>\n",
              "      <td>150.68 -33.79</td>\n",
              "      <td>PAY/SALARY</td>\n",
              "      <td>NaN</td>\n",
              "      <td>0.0</td>\n",
              "      <td>Susan</td>\n",
              "      <td>11454.52</td>\n",
              "      <td>2018-10-31</td>\n",
              "      <td>F</td>\n",
              "      <td>20</td>\n",
              "      <td>NaN</td>\n",
              "      <td>NaN</td>\n",
              "      <td>2018-10-31T17:00:00.000+0000</td>\n",
              "      <td>1395.49</td>\n",
              "      <td>cd1b1dea1d2f43e882d3499b3717d23b</td>\n",
              "      <td>Australia</td>\n",
              "      <td>CUS-164374203</td>\n",
              "      <td>NaN</td>\n",
              "      <td>credit</td>\n",
              "      <td>Wednesday</td>\n",
              "      <td>October</td>\n",
              "      <td>1395</td>\n",
              "    </tr>\n",
              "    <tr>\n",
              "      <th>12004</th>\n",
              "      <td>posted</td>\n",
              "      <td>NaN</td>\n",
              "      <td>0</td>\n",
              "      <td>ACC-2171593283</td>\n",
              "      <td>AUD</td>\n",
              "      <td>146.94 -36.04</td>\n",
              "      <td>PAY/SALARY</td>\n",
              "      <td>NaN</td>\n",
              "      <td>0.0</td>\n",
              "      <td>Fernando</td>\n",
              "      <td>19893.45</td>\n",
              "      <td>2018-10-31</td>\n",
              "      <td>M</td>\n",
              "      <td>19</td>\n",
              "      <td>NaN</td>\n",
              "      <td>NaN</td>\n",
              "      <td>2018-10-31T17:00:00.000+0000</td>\n",
              "      <td>2639.76</td>\n",
              "      <td>d4804402c1c34e0ebc53a4c395e0c63d</td>\n",
              "      <td>Australia</td>\n",
              "      <td>CUS-2317998716</td>\n",
              "      <td>NaN</td>\n",
              "      <td>credit</td>\n",
              "      <td>Wednesday</td>\n",
              "      <td>October</td>\n",
              "      <td>2639</td>\n",
              "    </tr>\n",
              "  </tbody>\n",
              "</table>\n",
              "<p>883 rows × 26 columns</p>\n",
              "</div>"
            ],
            "text/plain": [
              "       status  card_present_flag  ... monthname annual_salary\n",
              "50     posted                NaN  ...    August          3903\n",
              "61     posted                NaN  ...    August          1626\n",
              "64     posted                NaN  ...    August           983\n",
              "68     posted                NaN  ...    August          1408\n",
              "70     posted                NaN  ...    August          1068\n",
              "...       ...                ...  ...       ...           ...\n",
              "11995  posted                NaN  ...   October          1098\n",
              "12000  posted                NaN  ...   October          1158\n",
              "12001  posted                NaN  ...   October          1043\n",
              "12003  posted                NaN  ...   October          1395\n",
              "12004  posted                NaN  ...   October          2639\n",
              "\n",
              "[883 rows x 26 columns]"
            ]
          },
          "metadata": {
            "tags": []
          },
          "execution_count": 149
        }
      ]
    },
    {
      "cell_type": "code",
      "metadata": {
        "id": "YtpGBbFfFuq7",
        "colab_type": "code",
        "colab": {
          "base_uri": "https://localhost:8080/",
          "height": 36
        },
        "outputId": "8b81be07-ebe6-4b1a-8255-f5f62d3aa70f"
      },
      "source": [
        "print(data.age.corr(predsalary.annual_salary))"
      ],
      "execution_count": 150,
      "outputs": [
        {
          "output_type": "stream",
          "text": [
            "-0.13853825855042662\n"
          ],
          "name": "stdout"
        }
      ]
    },
    {
      "cell_type": "code",
      "metadata": {
        "id": "He-4fpWoFupr",
        "colab_type": "code",
        "colab": {
          "base_uri": "https://localhost:8080/",
          "height": 298
        },
        "outputId": "058d165f-46c5-4a04-a329-a821ec2d6232"
      },
      "source": [
        "sns.scatterplot(x=predsalary.age,y= predsalary.annual_salary)"
      ],
      "execution_count": 152,
      "outputs": [
        {
          "output_type": "execute_result",
          "data": {
            "text/plain": [
              "<matplotlib.axes._subplots.AxesSubplot at 0x7efeb80d1518>"
            ]
          },
          "metadata": {
            "tags": []
          },
          "execution_count": 152
        },
        {
          "output_type": "display_data",
          "data": {
            "image/png": "[encoded data removed]",
            "text/plain": [
              "<Figure size 432x288 with 1 Axes>"
            ]
          },
          "metadata": {
            "tags": [],
            "needs_background": "light"
          }
        }
      ]
    },
    {
      "cell_type": "code",
      "metadata": {
        "id": "bN0IR25lFuny",
        "colab_type": "code",
        "colab": {}
      },
      "source": [
        "predsalary = predsalary.filter(['gender','movement','merchant_code','balance','amount','annual_salary'])"
      ],
      "execution_count": 153,
      "outputs": []
    },
    {
      "cell_type": "code",
      "metadata": {
        "id": "3EBQxoJmFuhY",
        "colab_type": "code",
        "colab": {}
      },
      "source": [
        "predsalary = predsalary.reset_index()\n",
        "del predsalary['index']"
      ],
      "execution_count": 154,
      "outputs": []
    },
    {
      "cell_type": "code",
      "metadata": {
        "id": "8U1sZEiuFufd",
        "colab_type": "code",
        "colab": {
          "base_uri": "https://localhost:8080/",
          "height": 423
        },
        "outputId": "422b7c19-0973-4e71-d6cb-827521615230"
      },
      "source": [
        "predsalary"
      ],
      "execution_count": 155,
      "outputs": [
        {
          "output_type": "execute_result",
          "data": {
            "text/html": [
              "<div>\n",
              "<style scoped>\n",
              "    .dataframe tbody tr th:only-of-type {\n",
              "        vertical-align: middle;\n",
              "    }\n",
              "\n",
              "    .dataframe tbody tr th {\n",
              "        vertical-align: top;\n",
              "    }\n",
              "\n",
              "    .dataframe thead th {\n",
              "        text-align: right;\n",
              "    }\n",
              "</style>\n",
              "<table border=\"1\" class=\"dataframe\">\n",
              "  <thead>\n",
              "    <tr style=\"text-align: right;\">\n",
              "      <th></th>\n",
              "      <th>gender</th>\n",
              "      <th>movement</th>\n",
              "      <th>merchant_code</th>\n",
              "      <th>balance</th>\n",
              "      <th>amount</th>\n",
              "      <th>annual_salary</th>\n",
              "    </tr>\n",
              "  </thead>\n",
              "  <tbody>\n",
              "    <tr>\n",
              "      <th>0</th>\n",
              "      <td>M</td>\n",
              "      <td>credit</td>\n",
              "      <td>0.0</td>\n",
              "      <td>8342.11</td>\n",
              "      <td>3903.95</td>\n",
              "      <td>3903</td>\n",
              "    </tr>\n",
              "    <tr>\n",
              "      <th>1</th>\n",
              "      <td>F</td>\n",
              "      <td>credit</td>\n",
              "      <td>0.0</td>\n",
              "      <td>2040.58</td>\n",
              "      <td>1626.48</td>\n",
              "      <td>1626</td>\n",
              "    </tr>\n",
              "    <tr>\n",
              "      <th>2</th>\n",
              "      <td>M</td>\n",
              "      <td>credit</td>\n",
              "      <td>0.0</td>\n",
              "      <td>3158.51</td>\n",
              "      <td>983.36</td>\n",
              "      <td>983</td>\n",
              "    </tr>\n",
              "    <tr>\n",
              "      <th>3</th>\n",
              "      <td>M</td>\n",
              "      <td>credit</td>\n",
              "      <td>0.0</td>\n",
              "      <td>2517.66</td>\n",
              "      <td>1408.08</td>\n",
              "      <td>1408</td>\n",
              "    </tr>\n",
              "    <tr>\n",
              "      <th>4</th>\n",
              "      <td>F</td>\n",
              "      <td>credit</td>\n",
              "      <td>0.0</td>\n",
              "      <td>2271.79</td>\n",
              "      <td>1068.04</td>\n",
              "      <td>1068</td>\n",
              "    </tr>\n",
              "    <tr>\n",
              "      <th>...</th>\n",
              "      <td>...</td>\n",
              "      <td>...</td>\n",
              "      <td>...</td>\n",
              "      <td>...</td>\n",
              "      <td>...</td>\n",
              "      <td>...</td>\n",
              "    </tr>\n",
              "    <tr>\n",
              "      <th>878</th>\n",
              "      <td>M</td>\n",
              "      <td>credit</td>\n",
              "      <td>0.0</td>\n",
              "      <td>9378.51</td>\n",
              "      <td>1098.91</td>\n",
              "      <td>1098</td>\n",
              "    </tr>\n",
              "    <tr>\n",
              "      <th>879</th>\n",
              "      <td>F</td>\n",
              "      <td>credit</td>\n",
              "      <td>0.0</td>\n",
              "      <td>3440.01</td>\n",
              "      <td>1158.15</td>\n",
              "      <td>1158</td>\n",
              "    </tr>\n",
              "    <tr>\n",
              "      <th>880</th>\n",
              "      <td>M</td>\n",
              "      <td>credit</td>\n",
              "      <td>0.0</td>\n",
              "      <td>11381.44</td>\n",
              "      <td>1043.12</td>\n",
              "      <td>1043</td>\n",
              "    </tr>\n",
              "    <tr>\n",
              "      <th>881</th>\n",
              "      <td>F</td>\n",
              "      <td>credit</td>\n",
              "      <td>0.0</td>\n",
              "      <td>11454.52</td>\n",
              "      <td>1395.49</td>\n",
              "      <td>1395</td>\n",
              "    </tr>\n",
              "    <tr>\n",
              "      <th>882</th>\n",
              "      <td>M</td>\n",
              "      <td>credit</td>\n",
              "      <td>0.0</td>\n",
              "      <td>19893.45</td>\n",
              "      <td>2639.76</td>\n",
              "      <td>2639</td>\n",
              "    </tr>\n",
              "  </tbody>\n",
              "</table>\n",
              "<p>883 rows × 6 columns</p>\n",
              "</div>"
            ],
            "text/plain": [
              "    gender movement  merchant_code   balance   amount  annual_salary\n",
              "0        M   credit            0.0   8342.11  3903.95           3903\n",
              "1        F   credit            0.0   2040.58  1626.48           1626\n",
              "2        M   credit            0.0   3158.51   983.36            983\n",
              "3        M   credit            0.0   2517.66  1408.08           1408\n",
              "4        F   credit            0.0   2271.79  1068.04           1068\n",
              "..     ...      ...            ...       ...      ...            ...\n",
              "878      M   credit            0.0   9378.51  1098.91           1098\n",
              "879      F   credit            0.0   3440.01  1158.15           1158\n",
              "880      M   credit            0.0  11381.44  1043.12           1043\n",
              "881      F   credit            0.0  11454.52  1395.49           1395\n",
              "882      M   credit            0.0  19893.45  2639.76           2639\n",
              "\n",
              "[883 rows x 6 columns]"
            ]
          },
          "metadata": {
            "tags": []
          },
          "execution_count": 155
        }
      ]
    },
    {
      "cell_type": "code",
      "metadata": {
        "id": "DJjmfgjyFud1",
        "colab_type": "code",
        "colab": {
          "base_uri": "https://localhost:8080/",
          "height": 175
        },
        "outputId": "6e8c05b9-2536-4556-955b-39f467b9dd3d"
      },
      "source": [
        "predsalary.corr()"
      ],
      "execution_count": 156,
      "outputs": [
        {
          "output_type": "execute_result",
          "data": {
            "text/html": [
              "<div>\n",
              "<style scoped>\n",
              "    .dataframe tbody tr th:only-of-type {\n",
              "        vertical-align: middle;\n",
              "    }\n",
              "\n",
              "    .dataframe tbody tr th {\n",
              "        vertical-align: top;\n",
              "    }\n",
              "\n",
              "    .dataframe thead th {\n",
              "        text-align: right;\n",
              "    }\n",
              "</style>\n",
              "<table border=\"1\" class=\"dataframe\">\n",
              "  <thead>\n",
              "    <tr style=\"text-align: right;\">\n",
              "      <th></th>\n",
              "      <th>merchant_code</th>\n",
              "      <th>balance</th>\n",
              "      <th>amount</th>\n",
              "      <th>annual_salary</th>\n",
              "    </tr>\n",
              "  </thead>\n",
              "  <tbody>\n",
              "    <tr>\n",
              "      <th>merchant_code</th>\n",
              "      <td>NaN</td>\n",
              "      <td>NaN</td>\n",
              "      <td>NaN</td>\n",
              "      <td>NaN</td>\n",
              "    </tr>\n",
              "    <tr>\n",
              "      <th>balance</th>\n",
              "      <td>NaN</td>\n",
              "      <td>1.000000</td>\n",
              "      <td>0.287501</td>\n",
              "      <td>0.287501</td>\n",
              "    </tr>\n",
              "    <tr>\n",
              "      <th>amount</th>\n",
              "      <td>NaN</td>\n",
              "      <td>0.287501</td>\n",
              "      <td>1.000000</td>\n",
              "      <td>1.000000</td>\n",
              "    </tr>\n",
              "    <tr>\n",
              "      <th>annual_salary</th>\n",
              "      <td>NaN</td>\n",
              "      <td>0.287501</td>\n",
              "      <td>1.000000</td>\n",
              "      <td>1.000000</td>\n",
              "    </tr>\n",
              "  </tbody>\n",
              "</table>\n",
              "</div>"
            ],
            "text/plain": [
              "               merchant_code   balance    amount  annual_salary\n",
              "merchant_code            NaN       NaN       NaN            NaN\n",
              "balance                  NaN  1.000000  0.287501       0.287501\n",
              "amount                   NaN  0.287501  1.000000       1.000000\n",
              "annual_salary            NaN  0.287501  1.000000       1.000000"
            ]
          },
          "metadata": {
            "tags": []
          },
          "execution_count": 156
        }
      ]
    },
    {
      "cell_type": "code",
      "metadata": {
        "id": "Cjt9jaCFFubi",
        "colab_type": "code",
        "colab": {
          "base_uri": "https://localhost:8080/",
          "height": 336
        },
        "outputId": "4d581d86-71c7-476d-c36f-4c9e7332e78d"
      },
      "source": [
        "ax = sns.heatmap(predsalary.corr(),annot=True,square =True)"
      ],
      "execution_count": 157,
      "outputs": [
        {
          "output_type": "display_data",
          "data": {
            "image/png": "[encoded data removed]",
            "text/plain": [
              "<Figure size 432x288 with 2 Axes>"
            ]
          },
          "metadata": {
            "tags": [],
            "needs_background": "light"
          }
        }
      ]
    },
    {
      "cell_type": "code",
      "metadata": {
        "id": "ZrNOSlY5FuVf",
        "colab_type": "code",
        "colab": {}
      },
      "source": [
        "x= predsalary.drop('annual_salary',axis = 1)\n",
        "y = predsalary['annual_salary']"
      ],
      "execution_count": 160,
      "outputs": []
    },
    {
      "cell_type": "code",
      "metadata": {
        "id": "D0XYoqOFFuTe",
        "colab_type": "code",
        "colab": {
          "base_uri": "https://localhost:8080/",
          "height": 54
        },
        "outputId": "d515df85-3a85-46c2-80d7-a4ac091ba92d"
      },
      "source": [
        "print(x.shape)\n",
        "print(y.shape)"
      ],
      "execution_count": 161,
      "outputs": [
        {
          "output_type": "stream",
          "text": [
            "(883, 5)\n",
            "(883,)\n"
          ],
          "name": "stdout"
        }
      ]
    },
    {
      "cell_type": "code",
      "metadata": {
        "id": "0GN-X-OzFuR9",
        "colab_type": "code",
        "colab": {}
      },
      "source": [
        "dum_1= pd.get_dummies(x.gender)\n",
        "dum_2= pd.get_dummies(x.movement)"
      ],
      "execution_count": 162,
      "outputs": []
    },
    {
      "cell_type": "code",
      "metadata": {
        "id": "VZdjh6rPFuO5",
        "colab_type": "code",
        "colab": {}
      },
      "source": [
        "x = pd.concat([x,dum_1,dum_2],axis ='columns')"
      ],
      "execution_count": 163,
      "outputs": []
    },
    {
      "cell_type": "code",
      "metadata": {
        "id": "4E7Rwsd6Kh7s",
        "colab_type": "code",
        "colab": {
          "base_uri": "https://localhost:8080/",
          "height": 423
        },
        "outputId": "c4c7660b-7899-44d4-fe94-d4e259988d47"
      },
      "source": [
        "x"
      ],
      "execution_count": 164,
      "outputs": [
        {
          "output_type": "execute_result",
          "data": {
            "text/html": [
              "<div>\n",
              "<style scoped>\n",
              "    .dataframe tbody tr th:only-of-type {\n",
              "        vertical-align: middle;\n",
              "    }\n",
              "\n",
              "    .dataframe tbody tr th {\n",
              "        vertical-align: top;\n",
              "    }\n",
              "\n",
              "    .dataframe thead th {\n",
              "        text-align: right;\n",
              "    }\n",
              "</style>\n",
              "<table border=\"1\" class=\"dataframe\">\n",
              "  <thead>\n",
              "    <tr style=\"text-align: right;\">\n",
              "      <th></th>\n",
              "      <th>gender</th>\n",
              "      <th>movement</th>\n",
              "      <th>merchant_code</th>\n",
              "      <th>balance</th>\n",
              "      <th>amount</th>\n",
              "      <th>F</th>\n",
              "      <th>M</th>\n",
              "      <th>credit</th>\n",
              "    </tr>\n",
              "  </thead>\n",
              "  <tbody>\n",
              "    <tr>\n",
              "      <th>0</th>\n",
              "      <td>M</td>\n",
              "      <td>credit</td>\n",
              "      <td>0.0</td>\n",
              "      <td>8342.11</td>\n",
              "      <td>3903.95</td>\n",
              "      <td>0</td>\n",
              "      <td>1</td>\n",
              "      <td>1</td>\n",
              "    </tr>\n",
              "    <tr>\n",
              "      <th>1</th>\n",
              "      <td>F</td>\n",
              "      <td>credit</td>\n",
              "      <td>0.0</td>\n",
              "      <td>2040.58</td>\n",
              "      <td>1626.48</td>\n",
              "      <td>1</td>\n",
              "      <td>0</td>\n",
              "      <td>1</td>\n",
              "    </tr>\n",
              "    <tr>\n",
              "      <th>2</th>\n",
              "      <td>M</td>\n",
              "      <td>credit</td>\n",
              "      <td>0.0</td>\n",
              "      <td>3158.51</td>\n",
              "      <td>983.36</td>\n",
              "      <td>0</td>\n",
              "      <td>1</td>\n",
              "      <td>1</td>\n",
              "    </tr>\n",
              "    <tr>\n",
              "      <th>3</th>\n",
              "      <td>M</td>\n",
              "      <td>credit</td>\n",
              "      <td>0.0</td>\n",
              "      <td>2517.66</td>\n",
              "      <td>1408.08</td>\n",
              "      <td>0</td>\n",
              "      <td>1</td>\n",
              "      <td>1</td>\n",
              "    </tr>\n",
              "    <tr>\n",
              "      <th>4</th>\n",
              "      <td>F</td>\n",
              "      <td>credit</td>\n",
              "      <td>0.0</td>\n",
              "      <td>2271.79</td>\n",
              "      <td>1068.04</td>\n",
              "      <td>1</td>\n",
              "      <td>0</td>\n",
              "      <td>1</td>\n",
              "    </tr>\n",
              "    <tr>\n",
              "      <th>...</th>\n",
              "      <td>...</td>\n",
              "      <td>...</td>\n",
              "      <td>...</td>\n",
              "      <td>...</td>\n",
              "      <td>...</td>\n",
              "      <td>...</td>\n",
              "      <td>...</td>\n",
              "      <td>...</td>\n",
              "    </tr>\n",
              "    <tr>\n",
              "      <th>878</th>\n",
              "      <td>M</td>\n",
              "      <td>credit</td>\n",
              "      <td>0.0</td>\n",
              "      <td>9378.51</td>\n",
              "      <td>1098.91</td>\n",
              "      <td>0</td>\n",
              "      <td>1</td>\n",
              "      <td>1</td>\n",
              "    </tr>\n",
              "    <tr>\n",
              "      <th>879</th>\n",
              "      <td>F</td>\n",
              "      <td>credit</td>\n",
              "      <td>0.0</td>\n",
              "      <td>3440.01</td>\n",
              "      <td>1158.15</td>\n",
              "      <td>1</td>\n",
              "      <td>0</td>\n",
              "      <td>1</td>\n",
              "    </tr>\n",
              "    <tr>\n",
              "      <th>880</th>\n",
              "      <td>M</td>\n",
              "      <td>credit</td>\n",
              "      <td>0.0</td>\n",
              "      <td>11381.44</td>\n",
              "      <td>1043.12</td>\n",
              "      <td>0</td>\n",
              "      <td>1</td>\n",
              "      <td>1</td>\n",
              "    </tr>\n",
              "    <tr>\n",
              "      <th>881</th>\n",
              "      <td>F</td>\n",
              "      <td>credit</td>\n",
              "      <td>0.0</td>\n",
              "      <td>11454.52</td>\n",
              "      <td>1395.49</td>\n",
              "      <td>1</td>\n",
              "      <td>0</td>\n",
              "      <td>1</td>\n",
              "    </tr>\n",
              "    <tr>\n",
              "      <th>882</th>\n",
              "      <td>M</td>\n",
              "      <td>credit</td>\n",
              "      <td>0.0</td>\n",
              "      <td>19893.45</td>\n",
              "      <td>2639.76</td>\n",
              "      <td>0</td>\n",
              "      <td>1</td>\n",
              "      <td>1</td>\n",
              "    </tr>\n",
              "  </tbody>\n",
              "</table>\n",
              "<p>883 rows × 8 columns</p>\n",
              "</div>"
            ],
            "text/plain": [
              "    gender movement  merchant_code   balance   amount  F  M  credit\n",
              "0        M   credit            0.0   8342.11  3903.95  0  1       1\n",
              "1        F   credit            0.0   2040.58  1626.48  1  0       1\n",
              "2        M   credit            0.0   3158.51   983.36  0  1       1\n",
              "3        M   credit            0.0   2517.66  1408.08  0  1       1\n",
              "4        F   credit            0.0   2271.79  1068.04  1  0       1\n",
              "..     ...      ...            ...       ...      ... .. ..     ...\n",
              "878      M   credit            0.0   9378.51  1098.91  0  1       1\n",
              "879      F   credit            0.0   3440.01  1158.15  1  0       1\n",
              "880      M   credit            0.0  11381.44  1043.12  0  1       1\n",
              "881      F   credit            0.0  11454.52  1395.49  1  0       1\n",
              "882      M   credit            0.0  19893.45  2639.76  0  1       1\n",
              "\n",
              "[883 rows x 8 columns]"
            ]
          },
          "metadata": {
            "tags": []
          },
          "execution_count": 164
        }
      ]
    },
    {
      "cell_type": "code",
      "metadata": {
        "id": "mB4H2zfoKivB",
        "colab_type": "code",
        "colab": {}
      },
      "source": [
        "x=x.drop(['gender','movement'],axis =1)"
      ],
      "execution_count": 165,
      "outputs": []
    },
    {
      "cell_type": "code",
      "metadata": {
        "id": "8q_9TDW8Ki38",
        "colab_type": "code",
        "colab": {
          "base_uri": "https://localhost:8080/",
          "height": 423
        },
        "outputId": "51391528-186c-4a16-a346-33d5813e41fa"
      },
      "source": [
        "x"
      ],
      "execution_count": 166,
      "outputs": [
        {
          "output_type": "execute_result",
          "data": {
            "text/html": [
              "<div>\n",
              "<style scoped>\n",
              "    .dataframe tbody tr th:only-of-type {\n",
              "        vertical-align: middle;\n",
              "    }\n",
              "\n",
              "    .dataframe tbody tr th {\n",
              "        vertical-align: top;\n",
              "    }\n",
              "\n",
              "    .dataframe thead th {\n",
              "        text-align: right;\n",
              "    }\n",
              "</style>\n",
              "<table border=\"1\" class=\"dataframe\">\n",
              "  <thead>\n",
              "    <tr style=\"text-align: right;\">\n",
              "      <th></th>\n",
              "      <th>merchant_code</th>\n",
              "      <th>balance</th>\n",
              "      <th>amount</th>\n",
              "      <th>F</th>\n",
              "      <th>M</th>\n",
              "      <th>credit</th>\n",
              "    </tr>\n",
              "  </thead>\n",
              "  <tbody>\n",
              "    <tr>\n",
              "      <th>0</th>\n",
              "      <td>0.0</td>\n",
              "      <td>8342.11</td>\n",
              "      <td>3903.95</td>\n",
              "      <td>0</td>\n",
              "      <td>1</td>\n",
              "      <td>1</td>\n",
              "    </tr>\n",
              "    <tr>\n",
              "      <th>1</th>\n",
              "      <td>0.0</td>\n",
              "      <td>2040.58</td>\n",
              "      <td>1626.48</td>\n",
              "      <td>1</td>\n",
              "      <td>0</td>\n",
              "      <td>1</td>\n",
              "    </tr>\n",
              "    <tr>\n",
              "      <th>2</th>\n",
              "      <td>0.0</td>\n",
              "      <td>3158.51</td>\n",
              "      <td>983.36</td>\n",
              "      <td>0</td>\n",
              "      <td>1</td>\n",
              "      <td>1</td>\n",
              "    </tr>\n",
              "    <tr>\n",
              "      <th>3</th>\n",
              "      <td>0.0</td>\n",
              "      <td>2517.66</td>\n",
              "      <td>1408.08</td>\n",
              "      <td>0</td>\n",
              "      <td>1</td>\n",
              "      <td>1</td>\n",
              "    </tr>\n",
              "    <tr>\n",
              "      <th>4</th>\n",
              "      <td>0.0</td>\n",
              "      <td>2271.79</td>\n",
              "      <td>1068.04</td>\n",
              "      <td>1</td>\n",
              "      <td>0</td>\n",
              "      <td>1</td>\n",
              "    </tr>\n",
              "    <tr>\n",
              "      <th>...</th>\n",
              "      <td>...</td>\n",
              "      <td>...</td>\n",
              "      <td>...</td>\n",
              "      <td>...</td>\n",
              "      <td>...</td>\n",
              "      <td>...</td>\n",
              "    </tr>\n",
              "    <tr>\n",
              "      <th>878</th>\n",
              "      <td>0.0</td>\n",
              "      <td>9378.51</td>\n",
              "      <td>1098.91</td>\n",
              "      <td>0</td>\n",
              "      <td>1</td>\n",
              "      <td>1</td>\n",
              "    </tr>\n",
              "    <tr>\n",
              "      <th>879</th>\n",
              "      <td>0.0</td>\n",
              "      <td>3440.01</td>\n",
              "      <td>1158.15</td>\n",
              "      <td>1</td>\n",
              "      <td>0</td>\n",
              "      <td>1</td>\n",
              "    </tr>\n",
              "    <tr>\n",
              "      <th>880</th>\n",
              "      <td>0.0</td>\n",
              "      <td>11381.44</td>\n",
              "      <td>1043.12</td>\n",
              "      <td>0</td>\n",
              "      <td>1</td>\n",
              "      <td>1</td>\n",
              "    </tr>\n",
              "    <tr>\n",
              "      <th>881</th>\n",
              "      <td>0.0</td>\n",
              "      <td>11454.52</td>\n",
              "      <td>1395.49</td>\n",
              "      <td>1</td>\n",
              "      <td>0</td>\n",
              "      <td>1</td>\n",
              "    </tr>\n",
              "    <tr>\n",
              "      <th>882</th>\n",
              "      <td>0.0</td>\n",
              "      <td>19893.45</td>\n",
              "      <td>2639.76</td>\n",
              "      <td>0</td>\n",
              "      <td>1</td>\n",
              "      <td>1</td>\n",
              "    </tr>\n",
              "  </tbody>\n",
              "</table>\n",
              "<p>883 rows × 6 columns</p>\n",
              "</div>"
            ],
            "text/plain": [
              "     merchant_code   balance   amount  F  M  credit\n",
              "0              0.0   8342.11  3903.95  0  1       1\n",
              "1              0.0   2040.58  1626.48  1  0       1\n",
              "2              0.0   3158.51   983.36  0  1       1\n",
              "3              0.0   2517.66  1408.08  0  1       1\n",
              "4              0.0   2271.79  1068.04  1  0       1\n",
              "..             ...       ...      ... .. ..     ...\n",
              "878            0.0   9378.51  1098.91  0  1       1\n",
              "879            0.0   3440.01  1158.15  1  0       1\n",
              "880            0.0  11381.44  1043.12  0  1       1\n",
              "881            0.0  11454.52  1395.49  1  0       1\n",
              "882            0.0  19893.45  2639.76  0  1       1\n",
              "\n",
              "[883 rows x 6 columns]"
            ]
          },
          "metadata": {
            "tags": []
          },
          "execution_count": 166
        }
      ]
    },
    {
      "cell_type": "code",
      "metadata": {
        "id": "vT5KK_xSLOBB",
        "colab_type": "code",
        "colab": {}
      },
      "source": [
        "from sklearn.model_selection import train_test_split"
      ],
      "execution_count": 169,
      "outputs": []
    },
    {
      "cell_type": "code",
      "metadata": {
        "id": "qyAIDZI0LOYv",
        "colab_type": "code",
        "colab": {}
      },
      "source": [
        "x_train,x_test,y_train,y_test=  train_test_split(x,y,test_size = 0.2,random_state=0)"
      ],
      "execution_count": 170,
      "outputs": []
    },
    {
      "cell_type": "code",
      "metadata": {
        "id": "Odbd-_McLO3u",
        "colab_type": "code",
        "colab": {}
      },
      "source": [
        "from sklearn.linear_model import LinearRegression"
      ],
      "execution_count": 171,
      "outputs": []
    },
    {
      "cell_type": "code",
      "metadata": {
        "id": "CC2QwXv3LO0x",
        "colab_type": "code",
        "colab": {}
      },
      "source": [
        "lr = LinearRegression() "
      ],
      "execution_count": 172,
      "outputs": []
    },
    {
      "cell_type": "code",
      "metadata": {
        "id": "jCYRntqKLOzA",
        "colab_type": "code",
        "colab": {
          "base_uri": "https://localhost:8080/",
          "height": 36
        },
        "outputId": "1671e750-b83f-442e-f4b4-6ad2b92ce4e5"
      },
      "source": [
        "lr.fit(x_train,y_train)"
      ],
      "execution_count": 173,
      "outputs": [
        {
          "output_type": "execute_result",
          "data": {
            "text/plain": [
              "LinearRegression(copy_X=True, fit_intercept=True, n_jobs=None, normalize=False)"
            ]
          },
          "metadata": {
            "tags": []
          },
          "execution_count": 173
        }
      ]
    },
    {
      "cell_type": "code",
      "metadata": {
        "id": "PlINTi1cLOxW",
        "colab_type": "code",
        "colab": {
          "base_uri": "https://localhost:8080/",
          "height": 859
        },
        "outputId": "1a3c9b1d-bd6f-4104-9148-0315938b8951"
      },
      "source": [
        "lr.predict(x_test)"
      ],
      "execution_count": 174,
      "outputs": [
        {
          "output_type": "execute_result",
          "data": {
            "text/plain": [
              "array([2538.13044691,  920.28831298, 1001.62024725,  920.28634495,\n",
              "       3578.06877762, 1098.39732143,  781.94584091, 4131.62777867,\n",
              "       1157.71830188, 2587.45865111, 1436.55103773, 1224.89705919,\n",
              "        724.90207355, 1636.27705948, 2839.66983687, 3785.1971003 ,\n",
              "       1710.94335035, 2572.35756204, 2854.20663998, 3194.46071487,\n",
              "       2279.81585123, 1946.11913655, 2646.8479911 , 2587.4623713 ,\n",
              "       1626.03840743, 1407.55919871,  781.94259733, 1272.03709354,\n",
              "       6023.83820399, 1001.61989871, 1407.5594651 , 2306.16357866,\n",
              "       2538.12957798, 1395.05137713,  724.90171901, 1915.97576256,\n",
              "       2639.21076618, 2717.98300355, 1433.46044522,  760.90890756,\n",
              "       1224.89773314, 1157.7175307 , 2023.22184019, 2717.98023119,\n",
              "       1395.04991307, 4054.18741823,  995.7323656 , 1559.69149582,\n",
              "       1138.36062079, 1626.03550662, 2839.66794193, 1880.43712637,\n",
              "       2646.84682409, 1757.30665392, 3976.95087974, 1042.61390312,\n",
              "       2023.22437581, 4863.07973665, 1915.97316016, 4910.35751907,\n",
              "       2101.0521315 , 3903.23039206, 1099.18835877,  724.90138142,\n",
              "       1272.03530833, 1559.69319666, 1559.68810868, 1224.89542838,\n",
              "       1013.24106189, 1042.6097767 , 3785.18794519, 1946.11314222,\n",
              "       2101.05138701, 1880.43303486,  575.58529483,  916.94371966,\n",
              "        724.90070494,  916.94439813, 1540.68599923,  760.90981992,\n",
              "       4131.6365924 , 1946.114002  ,  970.04586826, 2484.89878851,\n",
              "       1013.24100862, 1880.43232912,  970.04274042, 1757.28597878,\n",
              "       2306.16399869, 4404.69958297, 2587.45628339, 2886.77854442,\n",
              "        995.73191235, 2885.96009217, 1059.41108045, 1928.43510346,\n",
              "       1395.70965143,  595.83422314, 2469.98603928,  781.94544329,\n",
              "       1640.30281013, 2442.77952141,  982.8529332 , 1436.55250886,\n",
              "       2306.16509421, 2279.82006924, 1042.61049729, 2717.98118236,\n",
              "       4054.19331301, 1951.83479301,  995.73226473, 1067.61260644,\n",
              "       2179.55516001, 1842.68868369, 1013.24050159, 2279.82277778,\n",
              "       4054.18901355, 2469.98490401, 1540.68573343, 2839.67158147,\n",
              "        664.02818514,  595.83369132,  982.85654111, 1946.1175463 ,\n",
              "       1157.71748064,  920.28675608, 3026.38791142, 3070.57723854,\n",
              "       5102.9679811 , 1640.30534894, 1395.70858169, 1042.6119657 ,\n",
              "        760.91124505,  891.66459258, 2101.05067447,  575.58465159,\n",
              "        724.90239565, 1059.40969812,  760.90915805, 3976.94937708,\n",
              "       1636.27586211, 1559.69078391, 1013.24110421, 1395.05043683,\n",
              "       2306.16403725, 1946.12171118, 1757.30510246, 2101.04921951,\n",
              "       1951.83413505, 3517.11209047,  995.73205474, 3903.22527005,\n",
              "       1138.36106494, 1001.62026573,  891.66654007, 2279.8190662 ,\n",
              "       1636.27498788, 1808.0874137 , 2319.7515575 , 1928.4342162 ,\n",
              "       1157.71668554, 4131.62959761, 1629.91309361, 2023.22509653,\n",
              "        891.66557827, 1537.23547713, 1626.03274654, 1880.43394917,\n",
              "       2281.89646974, 1407.55885719, 2023.22594024, 2854.20453222,\n",
              "        920.28707961, 2179.55493819, 3903.22390203, 2687.29166499,\n",
              "       1395.71005918])"
            ]
          },
          "metadata": {
            "tags": []
          },
          "execution_count": 174
        }
      ]
    },
    {
      "cell_type": "code",
      "metadata": {
        "id": "12SW18_tLOuf",
        "colab_type": "code",
        "colab": {
          "base_uri": "https://localhost:8080/",
          "height": 36
        },
        "outputId": "fbb2e11a-1fc3-4177-da65-b8f9811921eb"
      },
      "source": [
        "lr.score(x_test,y_test)"
      ],
      "execution_count": 175,
      "outputs": [
        {
          "output_type": "execute_result",
          "data": {
            "text/plain": [
              "0.999999934015427"
            ]
          },
          "metadata": {
            "tags": []
          },
          "execution_count": 175
        }
      ]
    },
    {
      "cell_type": "code",
      "metadata": {
        "id": "p6wccROTLOsc",
        "colab_type": "code",
        "colab": {}
      },
      "source": [
        "from sklearn.tree import DecisionTreeRegressor"
      ],
      "execution_count": 177,
      "outputs": []
    },
    {
      "cell_type": "code",
      "metadata": {
        "id": "Yt6ELM6xLOqJ",
        "colab_type": "code",
        "colab": {}
      },
      "source": [
        "dt = DecisionTreeRegressor()"
      ],
      "execution_count": 178,
      "outputs": []
    },
    {
      "cell_type": "code",
      "metadata": {
        "id": "cJbm0j9ZLOoD",
        "colab_type": "code",
        "colab": {
          "base_uri": "https://localhost:8080/",
          "height": 129
        },
        "outputId": "4c5bd334-473e-429e-b751-7520cf185070"
      },
      "source": [
        "dt.fit(x_train,y_train)"
      ],
      "execution_count": 180,
      "outputs": [
        {
          "output_type": "execute_result",
          "data": {
            "text/plain": [
              "DecisionTreeRegressor(ccp_alpha=0.0, criterion='mse', max_depth=None,\n",
              "                      max_features=None, max_leaf_nodes=None,\n",
              "                      min_impurity_decrease=0.0, min_impurity_split=None,\n",
              "                      min_samples_leaf=1, min_samples_split=2,\n",
              "                      min_weight_fraction_leaf=0.0, presort='deprecated',\n",
              "                      random_state=None, splitter='best')"
            ]
          },
          "metadata": {
            "tags": []
          },
          "execution_count": 180
        }
      ]
    },
    {
      "cell_type": "code",
      "metadata": {
        "id": "faIHOHIRLOlf",
        "colab_type": "code",
        "colab": {
          "base_uri": "https://localhost:8080/",
          "height": 36
        },
        "outputId": "7478939f-8b38-4cfd-dde3-1531d857136e"
      },
      "source": [
        "dt.score(x_test,y_test)"
      ],
      "execution_count": 182,
      "outputs": [
        {
          "output_type": "execute_result",
          "data": {
            "text/plain": [
              "0.999704924395396"
            ]
          },
          "metadata": {
            "tags": []
          },
          "execution_count": 182
        }
      ]
    },
    {
      "cell_type": "code",
      "metadata": {
        "id": "C-z1h2IcLOir",
        "colab_type": "code",
        "colab": {
          "base_uri": "https://localhost:8080/",
          "height": 391
        },
        "outputId": "fdcd4bd6-3183-406c-8602-57ce640a6025"
      },
      "source": [
        "dt.predict(x_test)"
      ],
      "execution_count": 183,
      "outputs": [
        {
          "output_type": "execute_result",
          "data": {
            "text/plain": [
              "array([2538.,  920., 1002.,  920., 3578., 1098.,  782., 4132., 1158.,\n",
              "       2588., 1436., 1225.,  725., 1636., 2840., 3785., 1711., 2572.,\n",
              "       2854., 3195., 2280., 1946., 2647., 2588., 1626., 1408.,  782.,\n",
              "       1272., 6024., 1002., 1408., 2306., 2538., 1395.,  725., 1916.,\n",
              "       2639., 2718., 1433.,  761., 1225., 1158., 2023., 2718., 1395.,\n",
              "       4054.,  996., 1560., 1138., 1626., 2840., 1880., 2647., 1757.,\n",
              "       3977., 1043., 2023., 5103., 1916., 4910., 2101., 3903., 1099.,\n",
              "        725., 1272., 1560., 1560., 1225., 1013., 1043., 3785., 1946.,\n",
              "       2101., 1880.,  576.,  917.,  725.,  917., 1541.,  761., 4132.,\n",
              "       1946.,  970., 2485., 1013., 1880.,  970., 1757., 2306., 4405.,\n",
              "       2588., 2887.,  996., 2886., 1059., 1928., 1396.,  596., 2470.,\n",
              "        782., 1640., 2443.,  983., 1436., 2306., 2280., 1043., 2718.,\n",
              "       4054., 1952.,  996., 1068., 2179., 1843., 1013., 2280., 4054.,\n",
              "       2485., 1541., 2840.,  664.,  596.,  983., 1946., 1158.,  920.,\n",
              "       3026., 3071., 5103., 1640., 1396., 1043.,  761.,  892., 2101.,\n",
              "        576.,  725., 1059.,  761., 3977., 1636., 1560., 1013., 1395.,\n",
              "       2306., 1946., 1757., 2101., 1952., 3517.,  996., 3903., 1138.,\n",
              "       1002.,  892., 2280., 1636., 1808., 2320., 1928., 1158., 4132.,\n",
              "       1630., 2023.,  892., 1537., 1626., 1880., 2282., 1408., 2023.,\n",
              "       2854.,  920., 2179., 3903., 2687., 1396.])"
            ]
          },
          "metadata": {
            "tags": []
          },
          "execution_count": 183
        }
      ]
    }
  ]
}