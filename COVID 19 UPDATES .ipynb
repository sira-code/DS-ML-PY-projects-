{
 "cells": [
  {
   "cell_type": "code",
   "execution_count": 1,
   "metadata": {},
   "outputs": [],
   "source": [
    "from bs4 import BeautifulSoup as BS"
   ]
  },
  {
   "cell_type": "code",
   "execution_count": 2,
   "metadata": {},
   "outputs": [],
   "source": [
    "import requests"
   ]
  },
  {
   "cell_type": "code",
   "execution_count": 8,
   "metadata": {},
   "outputs": [
    {
     "name": "stdout",
     "output_type": "stream",
     "text": [
      "TOTAL CASES ARE : 15,122,441\n",
      "RECOVERED CASES ARE : 9,137,915\n",
      "TOTAL DEATHS ARE  : 620,296\n"
     ]
    }
   ],
   "source": [
    "def get_info(url):\n",
    "    data = requests.get(url)\n",
    "    soup = BS(data.text,'html.parser')\n",
    "    total = soup.find(\"div\", class_ = \"maincounter-number\").text\n",
    "    total = total[1 : len(total) - 2]\n",
    "    other = soup.find_all(\"span\", class_ = \"number-table\")\n",
    "    recovered = other[2].text \n",
    "    deaths = other[3].text \n",
    "    deaths = deaths[1:]\n",
    "    ans ={'TOTAL CASES ARE' : total, 'RECOVERED CASES ARE' :recovered, 'TOTAL DEATHS ARE ': deaths}\n",
    "    return ans\n",
    "\n",
    "url = \"https://www.worldometers.info/coronavirus/\"\n",
    "ans = get_info(url)\n",
    "for i, j in ans.items():\n",
    "    print(i + \" : \" + j)"
   ]
  },
  {
   "cell_type": "code",
   "execution_count": null,
   "metadata": {},
   "outputs": [],
   "source": []
  }
 ],
 "metadata": {
  "kernelspec": {
   "display_name": "Python 3",
   "language": "python",
   "name": "python3"
  },
  "language_info": {
   "codemirror_mode": {
    "name": "ipython",
    "version": 3
   },
   "file_extension": ".py",
   "mimetype": "text/x-python",
   "name": "python",
   "nbconvert_exporter": "python",
   "pygments_lexer": "ipython3",
   "version": "3.7.6"
  }
 },
 "nbformat": 4,
 "nbformat_minor": 4
}
